{
  "cells": [
    {
      "cell_type": "markdown",
      "metadata": {
        "colab_type": "text",
        "id": "view-in-github"
      },
      "source": [
        "<a href=\"https://colab.research.google.com/github/toche7/PromptEngforDeveloper/blob/main/PromptLab4_inferring.ipynb\" target=\"_parent\"><img src=\"https://colab.research.google.com/assets/colab-badge.svg\" alt=\"Open In Colab\"/></a>"
      ]
    },
    {
      "cell_type": "markdown",
      "id": "3630c235-f891-4874-bd0a-5277d4d6aa82",
      "metadata": {
        "id": "3630c235-f891-4874-bd0a-5277d4d6aa82"
      },
      "source": [
        "# Inferring\n",
        "ใน notebook นี้เราจะได้ทดลองการใช้ LLM ในการอนุมาน หัวข้อ อารมณ์ และความรู้สึก จากการ review สินค้า และจากบทความข่าว\n",
        "\n",
        "## Setup"
      ]
    },
    {
      "cell_type": "code",
      "execution_count": null,
      "id": "_xxTq77hTkM5",
      "metadata": {
        "colab": {
          "base_uri": "https://localhost:8080/"
        },
        "id": "_xxTq77hTkM5",
        "outputId": "805baa04-fe1a-41cd-8b6c-a0ebfb90a56b"
      },
      "outputs": [],
      "source": [
        "# !pip -q install python-dotenv\n",
        "!pip -q install groq"
      ]
    },
    {
      "cell_type": "code",
      "execution_count": null,
      "id": "39689e67",
      "metadata": {
        "height": 132,
        "id": "39689e67"
      },
      "outputs": [],
      "source": [
        "#=========VSCode=====================================================================\n",
        "# from dotenv import find_dotenv, load_dotenv\n",
        "# _ = load_dotenv(find_dotenv())\n",
        "# import os\n",
        "# secret_key = os.environ.get(\"GROQ_API_KEY\")\n",
        "#========google.colab======================= \n",
        "from google.colab import userdata\n",
        "secret_key = userdata.get('GROQ_API_KEY')\n",
        "\n",
        "#===== create Groq object================= \n",
        "from groq import Groq\n",
        "clientGroq = Groq(\n",
        "    api_key= secret_key,\n",
        ")"
      ]
    },
    {
      "cell_type": "code",
      "execution_count": null,
      "id": "e82f5577",
      "metadata": {
        "height": 164,
        "id": "e82f5577"
      },
      "outputs": [],
      "source": [
        "def get_completion(prompt, model= \"llama3-70b-8192\", clientGroq = clientGroq):\n",
        "    messages = [{\"role\": \"user\", \"content\": prompt}]\n",
        "    response = clientGroq.chat.completions.create(\n",
        "        model=model,\n",
        "        messages=messages,\n",
        "        temperature=0,\n",
        "        max_tokens= 4000,\n",
        "        top_p = 0.5\n",
        "    )\n",
        "    return response.choices[0].message.content"
      ]
    },
    {
      "cell_type": "markdown",
      "id": "51d2fdfa-c99f-4750-8574-dba7712cd7f0",
      "metadata": {
        "id": "51d2fdfa-c99f-4750-8574-dba7712cd7f0"
      },
      "source": [
        "## Product review text"
      ]
    },
    {
      "cell_type": "code",
      "execution_count": null,
      "id": "b0f3b49b",
      "metadata": {
        "height": 200,
        "id": "b0f3b49b"
      },
      "outputs": [],
      "source": [
        "lamp_review = \"\"\"\n",
        "Needed a nice lamp for my bedroom, and this one had \\\n",
        "additional storage and not too high of a price point. \\\n",
        "Got it fast.  The string to our lamp broke during the \\\n",
        "transit and the company happily sent over a new one. \\\n",
        "Came within a few days as well. It was easy to put \\\n",
        "together.  I had a missing part, so I contacted their \\\n",
        "support and they very quickly got me the missing piece! \\\n",
        "Lumina seems to me to be a great company that cares \\\n",
        "about their customers and products!!\n",
        "\"\"\""
      ]
    },
    {
      "cell_type": "markdown",
      "id": "30d6e4bd-3337-45a3-8c99-a734cdd06743",
      "metadata": {
        "id": "30d6e4bd-3337-45a3-8c99-a734cdd06743"
      },
      "source": [
        "## Sentiment (positive/negative)"
      ]
    },
    {
      "cell_type": "code",
      "execution_count": null,
      "id": "e3157601",
      "metadata": {
        "colab": {
          "base_uri": "https://localhost:8080/"
        },
        "height": 149,
        "id": "e3157601",
        "outputId": "74be75ec-f792-4c32-83c3-e515ff0aabe8"
      },
      "outputs": [],
      "source": [
        "prompt = f\"\"\"\n",
        "What is the sentiment of the following product review,\n",
        "which is delimited with triple ticks?\n",
        "\n",
        "Review text: '''{lamp_review}'''\n",
        "\"\"\"\n",
        "response = get_completion(prompt)\n",
        "print(response)"
      ]
    },
    {
      "cell_type": "code",
      "execution_count": null,
      "id": "acf9ca16",
      "metadata": {
        "colab": {
          "base_uri": "https://localhost:8080/"
        },
        "height": 200,
        "id": "acf9ca16",
        "outputId": "06e412c5-fdd9-4ee8-ee69-641a5c655c5b"
      },
      "outputs": [],
      "source": [
        "prompt = f\"\"\"\n",
        "What is the sentiment of the following product review,\n",
        "which is delimited with triple ticks?\n",
        "\n",
        "Give your answer as a single word, either \"positive\" \\\n",
        "or \"negative\".\n",
        "\n",
        "Review text: '''{lamp_review}'''\n",
        "\"\"\"\n",
        "response = get_completion(prompt)\n",
        "print(response)"
      ]
    },
    {
      "cell_type": "markdown",
      "id": "81d2a973-1fa4-4a35-ae35-a2e746c0e91b",
      "metadata": {
        "id": "81d2a973-1fa4-4a35-ae35-a2e746c0e91b"
      },
      "source": [
        "## Identify types of emotions"
      ]
    },
    {
      "cell_type": "code",
      "execution_count": null,
      "id": "8aa7934b",
      "metadata": {
        "colab": {
          "base_uri": "https://localhost:8080/"
        },
        "height": 183,
        "id": "8aa7934b",
        "outputId": "0e0ae379-a6c1-4a34-9014-e9c00b1f35a0"
      },
      "outputs": [],
      "source": [
        "prompt = f\"\"\"\n",
        "Identify a list of emotions that the writer of the \\\n",
        "following review is expressing. Include no more than \\\n",
        "five items in the list. Format your answer as a list of \\\n",
        "lower-case words separated by commas.\n",
        "\n",
        "Review text: '''{lamp_review}'''\n",
        "\"\"\"\n",
        "response = get_completion(prompt)\n",
        "print(response)"
      ]
    },
    {
      "cell_type": "markdown",
      "id": "a428d093-51c9-461c-b41e-114e80876409",
      "metadata": {
        "id": "a428d093-51c9-461c-b41e-114e80876409"
      },
      "source": [
        "## Identify anger"
      ]
    },
    {
      "cell_type": "code",
      "execution_count": null,
      "id": "dba1a538",
      "metadata": {
        "colab": {
          "base_uri": "https://localhost:8080/"
        },
        "height": 166,
        "id": "dba1a538",
        "outputId": "931e464a-9fff-4bb5-8af6-5f41621901ea"
      },
      "outputs": [],
      "source": [
        "prompt = f\"\"\"\n",
        "Is the writer of the following review expressing anger?\\\n",
        "The review is delimited with triple backticks. \\\n",
        "Give your answer as either yes or no.\n",
        "\n",
        "Review text: '''{lamp_review}'''\n",
        "\"\"\"\n",
        "response = get_completion(prompt)\n",
        "print(response)"
      ]
    },
    {
      "cell_type": "markdown",
      "id": "936a771e-ca78-4e55-8088-2da6f3820ddc",
      "metadata": {
        "id": "936a771e-ca78-4e55-8088-2da6f3820ddc"
      },
      "source": [
        "## Extract product and company name from customer reviews"
      ]
    },
    {
      "cell_type": "code",
      "execution_count": null,
      "id": "a13bea1b",
      "metadata": {
        "colab": {
          "base_uri": "https://localhost:8080/"
        },
        "height": 285,
        "id": "a13bea1b",
        "outputId": "0deabdfe-e177-4916-a2fd-111d88add3bf"
      },
      "outputs": [],
      "source": [
        "prompt = f\"\"\"\n",
        "Identify the following items from the review text:\n",
        "- Item purchased by reviewer\n",
        "- Company that made the item\n",
        "\n",
        "The review is delimited with triple backticks. \\\n",
        "Format your response as a JSON object with \\\n",
        "\"Item\" and \"Brand\" as the keys.\n",
        "If the information isn't present, use \"unknown\" \\\n",
        "as the value.\n",
        "Make your response as short as possible.\n",
        "\n",
        "Review text: '''{lamp_review}'''\n",
        "\"\"\"\n",
        "response = get_completion(prompt)\n",
        "print(response)"
      ]
    },
    {
      "cell_type": "markdown",
      "id": "a38880a5-088f-4609-9913-f8fa41fb7ba0",
      "metadata": {
        "id": "a38880a5-088f-4609-9913-f8fa41fb7ba0"
      },
      "source": [
        "## Doing multiple tasks at once"
      ]
    },
    {
      "cell_type": "code",
      "execution_count": null,
      "id": "e7dda9e5",
      "metadata": {
        "colab": {
          "base_uri": "https://localhost:8080/"
        },
        "height": 336,
        "id": "e7dda9e5",
        "outputId": "2a8904be-09e7-466e-dd0e-085d135031fb"
      },
      "outputs": [],
      "source": [
        "prompt = f\"\"\"\n",
        "Identify the following items from the review text:\n",
        "- Sentiment (positive or negative)\n",
        "- Is the reviewer expressing anger? (true or false)\n",
        "- Item purchased by reviewer\n",
        "- Company that made the item\n",
        "\n",
        "The review is delimited with triple backticks. \\\n",
        "Format your response as a JSON object with \\\n",
        "\"Sentiment\", \"Anger\", \"Item\" and \"Brand\" as the keys.\n",
        "If the information isn't present, use \"unknown\" \\\n",
        "as the value.\n",
        "Make your response as short as possible.\n",
        "Format the Anger value as a boolean.\n",
        "\n",
        "Review text: '''{lamp_review}'''\n",
        "\"\"\"\n",
        "response = get_completion(prompt)\n",
        "print(response)"
      ]
    },
    {
      "cell_type": "markdown",
      "id": "235fc223-2c89-49ec-ac2d-78a8e74a43ac",
      "metadata": {
        "id": "235fc223-2c89-49ec-ac2d-78a8e74a43ac"
      },
      "source": [
        "## Inferring topics"
      ]
    },
    {
      "cell_type": "code",
      "execution_count": null,
      "id": "8a74cc3e",
      "metadata": {
        "height": 487,
        "id": "8a74cc3e"
      },
      "outputs": [],
      "source": [
        "story = \"\"\"\n",
        "In a recent survey conducted by the government,\n",
        "public sector employees were asked to rate their level\n",
        "of satisfaction with the department they work at.\n",
        "The results revealed that NASA was the most popular\n",
        "department with a satisfaction rating of 95%.\n",
        "\n",
        "One NASA employee, John Smith, commented on the findings,\n",
        "stating, \"I'm not surprised that NASA came out on top.\n",
        "It's a great place to work with amazing people and\n",
        "incredible opportunities. I'm proud to be a part of\n",
        "such an innovative organization.\"\n",
        "\n",
        "The results were also welcomed by NASA's management team,\n",
        "with Director Tom Johnson stating, \"We are thrilled to\n",
        "hear that our employees are satisfied with their work at NASA.\n",
        "We have a talented and dedicated team who work tirelessly\n",
        "to achieve our goals, and it's fantastic to see that their\n",
        "hard work is paying off.\"\n",
        "\n",
        "The survey also revealed that the\n",
        "Social Security Administration had the lowest satisfaction\n",
        "rating, with only 45% of employees indicating they were\n",
        "satisfied with their job. The government has pledged to\n",
        "address the concerns raised by employees in the survey and\n",
        "work towards improving job satisfaction across all departments.\n",
        "\"\"\""
      ]
    },
    {
      "cell_type": "markdown",
      "id": "a8ea91d6-e841-4ee2-bed9-ca4a36df177f",
      "metadata": {
        "id": "a8ea91d6-e841-4ee2-bed9-ca4a36df177f"
      },
      "source": [
        "## Infer 5 topics"
      ]
    },
    {
      "cell_type": "code",
      "execution_count": null,
      "id": "5c267cbe",
      "metadata": {
        "colab": {
          "base_uri": "https://localhost:8080/"
        },
        "height": 217,
        "id": "5c267cbe",
        "outputId": "45b3411b-905a-43a2-b68a-8b954370b21f"
      },
      "outputs": [],
      "source": [
        "prompt = f\"\"\"\n",
        "Determine five topics that are being discussed in the \\\n",
        "following text, which is delimited by triple ticks.\n",
        "\n",
        "Make each item one or two words long.\n",
        "\n",
        "Format your response as a list of items separated by commas.\n",
        "\n",
        "Text sample: '''{story}'''\n",
        "\"\"\"\n",
        "response = get_completion(prompt)\n",
        "print(response)"
      ]
    },
    {
      "cell_type": "code",
      "execution_count": null,
      "id": "94b8fa65",
      "metadata": {
        "height": 81,
        "id": "94b8fa65"
      },
      "outputs": [],
      "source": [
        "topic_list = [\n",
        "    \"nasa\", \"local government\", \"engineering\",\n",
        "    \"employee satisfaction\", \"federal government\"\n",
        "]"
      ]
    },
    {
      "cell_type": "markdown",
      "id": "34be1d2a-1309-4512-841a-b6f67338938b",
      "metadata": {
        "id": "34be1d2a-1309-4512-841a-b6f67338938b"
      },
      "source": [
        "## Make a news alert for certain topics"
      ]
    },
    {
      "cell_type": "code",
      "execution_count": null,
      "id": "626c5b8e",
      "metadata": {
        "colab": {
          "base_uri": "https://localhost:8080/"
        },
        "height": 234,
        "id": "626c5b8e",
        "outputId": "6aaaea6c-e6ae-4879-8df4-38d781c9ea63"
      },
      "outputs": [],
      "source": [
        "prompt = f\"\"\"\n",
        "Determine whether each item in the following list of \\\n",
        "topics is a topic in the text below, which\n",
        "is delimited with triple backticks.\n",
        "\n",
        "Give your answer as list with 0 or 1 for each topic.\\\n",
        "for example\n",
        "nasa : 1\n",
        "\n",
        "List of topics: {\", \".join(topic_list)}\n",
        "\n",
        "Format your response as a JSON object.\n",
        "\n",
        "Text sample: '''{story}'''\n",
        "\"\"\"\n",
        "response = get_completion(prompt)\n",
        "print(response)"
      ]
    },
    {
      "cell_type": "code",
      "execution_count": null,
      "id": "7b28e378",
      "metadata": {},
      "outputs": [],
      "source": [
        "import json\n",
        "def extract_json_part(text):\n",
        "  # Find the start and end of the JSON object\n",
        "  start = text.find('{')\n",
        "  end = text.rfind('}') + 1\n",
        "  \n",
        "  # Extract the JSON object as a string\n",
        "  json_string = text[start:end]\n",
        "  \n",
        "  # Attempt to parse the JSON string\n",
        "  try:\n",
        "    json_object = json.loads(json_string)\n",
        "    return json_object\n",
        "  except json.JSONDecodeError as e:\n",
        "    print(f\"Error decoding JSON: {e}\")\n",
        "    return None\n"
      ]
    },
    {
      "cell_type": "code",
      "execution_count": null,
      "id": "d65b12a6",
      "metadata": {},
      "outputs": [],
      "source": [
        "extracted_json = extract_json_part(response)\n",
        "print(extracted_json)"
      ]
    },
    {
      "cell_type": "code",
      "execution_count": null,
      "id": "902a7c74",
      "metadata": {
        "colab": {
          "base_uri": "https://localhost:8080/"
        },
        "height": 79,
        "id": "902a7c74",
        "outputId": "0d96fd0a-5f22-414f-f606-929615f96d5a"
      },
      "outputs": [],
      "source": [
        "if extracted_json['nasa'] == 1:\n",
        "    print(\"ALERT: New "
      ]
    },
    {
      "cell_type": "markdown",
      "id": "f88408ae-469a-4b02-a043-f6b4f0b14bf9",
      "metadata": {
        "id": "f88408ae-469a-4b02-a043-f6b4f0b14bf9"
      },
      "source": [
        "## Try experimenting on your own!"
      ]
    },
    {
      "cell_type": "code",
      "execution_count": null,
      "id": "1bd3553f",
      "metadata": {
        "height": 30,
        "id": "1bd3553f"
      },
      "outputs": [],
      "source": []
    }
  ],
  "metadata": {
    "colab": {
      "include_colab_link": true,
      "provenance": []
    },
    "kernelspec": {
      "display_name": "Python 3 (ipykernel)",
      "language": "python",
      "name": "python3"
    },
    "language_info": {
      "codemirror_mode": {
        "name": "ipython",
        "version": 3
      },
      "file_extension": ".py",
      "mimetype": "text/x-python",
      "name": "python",
      "nbconvert_exporter": "python",
      "pygments_lexer": "ipython3",
      "version": "3.10.13"
    }
  },
  "nbformat": 4,
  "nbformat_minor": 5
}
