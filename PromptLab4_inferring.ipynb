{
  "cells": [
    {
      "cell_type": "markdown",
      "metadata": {
        "id": "view-in-github",
        "colab_type": "text"
      },
      "source": [
        "<a href=\"https://colab.research.google.com/github/toche7/PromptEngforDeveloper/blob/main/PromptLab4_inferring.ipynb\" target=\"_parent\"><img src=\"https://colab.research.google.com/assets/colab-badge.svg\" alt=\"Open In Colab\"/></a>"
      ]
    },
    {
      "cell_type": "markdown",
      "id": "3630c235-f891-4874-bd0a-5277d4d6aa82",
      "metadata": {
        "id": "3630c235-f891-4874-bd0a-5277d4d6aa82"
      },
      "source": [
        "# Inferring\n",
        "ใน notebook นี้เราจะได้ทดลองการใช้ LLM ในการอนุมาน หัวข้อ อารมณ์ และความรู้สึก จากการ review สินค้า และจากบทความข่าว"
      ]
    },
    {
      "cell_type": "markdown",
      "source": [
        "## Setup"
      ],
      "metadata": {
        "id": "NmD7i6VcdhEO"
      },
      "id": "NmD7i6VcdhEO"
    },
    {
      "cell_type": "code",
      "execution_count": null,
      "id": "_xxTq77hTkM5",
      "metadata": {
        "id": "_xxTq77hTkM5",
        "colab": {
          "base_uri": "https://localhost:8080/"
        },
        "outputId": "80ef0be7-48f3-4f70-a2b3-05f7f14401d7"
      },
      "outputs": [
        {
          "output_type": "stream",
          "name": "stdout",
          "text": [
            "\u001b[?25l   \u001b[90m━━━━━━━━━━━━━━━━━━━━━━━━━━━━━━━━━━━━━━━━\u001b[0m \u001b[32m0.0/108.9 kB\u001b[0m \u001b[31m?\u001b[0m eta \u001b[36m-:--:--\u001b[0m\r\u001b[2K   \u001b[91m━━━━━━━━━━━━━━━━━━━━━━━━━━━━━━━━━━━━━\u001b[0m\u001b[91m╸\u001b[0m\u001b[90m━━\u001b[0m \u001b[32m102.4/108.9 kB\u001b[0m \u001b[31m5.7 MB/s\u001b[0m eta \u001b[36m0:00:01\u001b[0m\r\u001b[2K   \u001b[90m━━━━━━━━━━━━━━━━━━━━━━━━━━━━━━━━━━━━━━━━\u001b[0m \u001b[32m108.9/108.9 kB\u001b[0m \u001b[31m1.9 MB/s\u001b[0m eta \u001b[36m0:00:00\u001b[0m\n",
            "\u001b[?25h"
          ]
        }
      ],
      "source": [
        "# !pip -q install python-dotenv\n",
        "!pip -q install groq"
      ]
    },
    {
      "cell_type": "code",
      "execution_count": null,
      "id": "39689e67",
      "metadata": {
        "height": 132,
        "id": "39689e67"
      },
      "outputs": [],
      "source": [
        "#========= VSCode for Groq =====================================================================\n",
        "# import os\n",
        "# from dotenv import load_dotenv\n",
        "# load_dotenv()\n",
        "# secret_key = os.environ.get(\"GROQ_API_KEY\")\n",
        "#======== google.colab for Groq ================================================================\n",
        "from google.colab import userdata\n",
        "secret_key = userdata.get('GROQ_API_KEY')\n",
        "\n",
        "#===== create Groq object=================\n",
        "from groq import Groq\n",
        "clientGroq = Groq(\n",
        "    api_key= secret_key,\n",
        ")"
      ]
    },
    {
      "cell_type": "code",
      "execution_count": null,
      "id": "e82f5577",
      "metadata": {
        "height": 164,
        "id": "e82f5577"
      },
      "outputs": [],
      "source": [
        "def get_completion(prompt, model= \"llama3-70b-8192\", clientGroq = clientGroq):\n",
        "    messages = [{\"role\": \"user\", \"content\": prompt}]\n",
        "    response = clientGroq.chat.completions.create(\n",
        "        model=model,\n",
        "        messages=messages,\n",
        "        temperature=0,\n",
        "        max_tokens= 4000,\n",
        "        top_p = 0.5\n",
        "    )\n",
        "    return response.choices[0].message.content"
      ]
    },
    {
      "cell_type": "markdown",
      "id": "51d2fdfa-c99f-4750-8574-dba7712cd7f0",
      "metadata": {
        "id": "51d2fdfa-c99f-4750-8574-dba7712cd7f0"
      },
      "source": [
        "## Product review text\n",
        "ข้อมูลจากเวปพันทิพย์ https://pantip.com/topic/33261003"
      ]
    },
    {
      "cell_type": "code",
      "execution_count": null,
      "id": "b0f3b49b",
      "metadata": {
        "height": 200,
        "id": "b0f3b49b"
      },
      "outputs": [],
      "source": [
        "# Positive Review for a VIVO smartphone\n",
        "# from Pantip https://pantip.com/topic/33261003\n",
        "#\n",
        "lamp_review = \"\"\"\n",
        "เมื่อ 3 ปีที่แล้วก้อลังเลแบบนี้แหละค่ะ พอดีช่วงนั้นต้องเดินทางไปต่างประเทศและอยากเก็บรูปสวยๆให้มากที่สุด\n",
        "แต่ไม่อยากซื้อกล้องถ่ายรูป เลยมอง smartphoneแทนเพราะส่วนใหญ่เน้นถ่ายรูปกับ social media\n",
        "ตอนไปที่ร้านตั้งใจไปซื้อซัมซุง แต่ พนง ขายแนะนำ X-shot หลังจากเทียบสเปค เทียบราคาจึงเลือก X-shot ใช้ 3 ปี\n",
        "ไม่เคยซ่อม มีรวนครั้งนึงเพราะรูปเยอะมาก แบตก้อถือได้ว่า 70% สำหรับเครื่อง 3 ปีก้อถือว่าเยี่ยม\n",
        "ตอนเดือน พ.ค. ปีนี้เพิ่งถอย V5Plus มา Xshot ก้อยังใช้อยู่เพราะไม่อยากขาย ยังใช้งานได้ดีค่ะ\n",
        "บอกได้เลยว่า Vivo ตอบโจทย์ lifestyle ที่สุด ตอนนี้เวลาใครมาถามเรื่อง smartphone\n",
        "แนะนำ Vivo แน่นอนค่ะ ตอนนี้ขายของออนไลน์ ใช้แค่ smartphone ก้อได้รูปสวยๆ ก้อลงสินค้าได้แล้วค่ะ\n",
        "(ปล.ที่ซื้อ v5plus เพราะต้องไปต่างประเทศอีกครั้ง แล้วกลัวว่า xshot\n",
        "จะมีปัญหาเพราะตกจากที่สูงบ่อยมาก เล่นเกมหนักมาก สรุปคือคิดมากไปเอง ตอนนี้เลยใช้คู่กันทั้งสองเครื่องเลยค่ะ)\n",
        "\n",
        "ถ้า lifestyle เน้นถ่ายรูปกับ social บอกได้เลยว่า vivo ตอบโจทย์ที่สุดค่ะ\n",
        "\"\"\""
      ]
    },
    {
      "cell_type": "code",
      "source": [
        "# Negative Review for a VIVO smartphone\n",
        "# from Pantip https://pantip.com/topic/33261003\n",
        "#\n",
        "lamp_review = \"\"\"\n",
        "ซื้อ vivo v7 มาหมดรับประกันแค่ 7 วัน เครื่องรับสัญณาณไม่ได้แล้ว\n",
        "ที่แรกคิดว่าเป็นเพราะซิมที่ไหนได้เป็นที่เครื่องรับสัญณาณเสีย เสียเงินยังไม่พอ ยังหัวเสียอีก\n",
        "ทางร้านไม่รับผิดชอบอะไรเลย บอกแต่ว่าเขาศูนย์เถอะคับ\n",
        "ผมกะไม่รู้ว่าเกิดจากอะไรเหมือนกัน เราซื้อเครื่องจาก ไอทีสแควจากหลักสี่\n",
        "พนักงานขายคนที่ขายหายหัวไปละ มีคนใหม่มาแทนไม่รู้เรื่องออะไรเลย\n",
        "ใครที่คิดจะซื้อ V9 ต้องระวังให้ดี\n",
        "สุดท้ายก็ต้องเปลี่ยนมาใช้ซัมซุงเหมือนเดิม ปัญหาน้อยหน่อย\n",
        "ราคาไม่ต่างกัน แต่คุณภาพต่ำ 10 คิดว่าจะดี แต่ที่ไหนได้ห่วยแตก\n",
        "\"\"\""
      ],
      "metadata": {
        "id": "f9Kcza-phDLS"
      },
      "id": "f9Kcza-phDLS",
      "execution_count": null,
      "outputs": []
    },
    {
      "cell_type": "markdown",
      "id": "30d6e4bd-3337-45a3-8c99-a734cdd06743",
      "metadata": {
        "id": "30d6e4bd-3337-45a3-8c99-a734cdd06743"
      },
      "source": [
        "## Sentiment (positive/negative)"
      ]
    },
    {
      "cell_type": "code",
      "execution_count": null,
      "id": "e3157601",
      "metadata": {
        "height": 149,
        "id": "e3157601",
        "colab": {
          "base_uri": "https://localhost:8080/"
        },
        "outputId": "697539c8-2c50-4787-95c8-8ea366686954"
      },
      "outputs": [
        {
          "output_type": "stream",
          "name": "stdout",
          "text": [
            "The sentiment of this product review is NEGATIVE.\n",
            "\n",
            "Here's a breakdown of the review:\n",
            "\n",
            "* The reviewer expresses frustration and disappointment with their Vivo V7 phone, which stopped working after just 7 days of purchase.\n",
            "* They mention that the store didn't take responsibility for the issue and instead blamed the phone's reception problem on the SIM card.\n",
            "* The reviewer also complains about the poor customer service, saying that the salesperson who sold them the phone was no longer available and the new staff didn't know what was going on.\n",
            "* They warn others who are considering buying the Vivo V9 to be cautious.\n",
            "* The reviewer eventually switched back to using a Samsung phone, implying that it's a better option.\n",
            "* The reviewer uses strong negative language, such as \"ห่วยแตก\" (which roughly translates to \"utterly useless\" or \"complete garbage\"), to express their dissatisfaction with the Vivo phone.\n",
            "\n",
            "Overall, the reviewer's experience with the Vivo V7 was extremely poor, and they would not recommend the brand to others.\n"
          ]
        }
      ],
      "source": [
        "prompt = f\"\"\"\n",
        "What is the sentiment of the following product review,\n",
        "which is delimited with triple ticks?\n",
        "\n",
        "Review text: '''{lamp_review}'''\n",
        "\"\"\"\n",
        "response = get_completion(prompt)\n",
        "print(response)"
      ]
    },
    {
      "cell_type": "code",
      "execution_count": null,
      "id": "acf9ca16",
      "metadata": {
        "height": 200,
        "id": "acf9ca16",
        "colab": {
          "base_uri": "https://localhost:8080/"
        },
        "outputId": "91e6cb33-e826-4094-ae58-6cb3bd050fb1"
      },
      "outputs": [
        {
          "output_type": "stream",
          "name": "stdout",
          "text": [
            "Negative\n"
          ]
        }
      ],
      "source": [
        "prompt = f\"\"\"\n",
        "What is the sentiment of the following product review,\n",
        "which is delimited with triple ticks?\n",
        "\n",
        "Give your answer as a single word, either \"positive\" \\\n",
        "or \"negative\".\n",
        "\n",
        "Review text: '''{lamp_review}'''\n",
        "\"\"\"\n",
        "response = get_completion(prompt)\n",
        "print(response)"
      ]
    },
    {
      "cell_type": "markdown",
      "id": "81d2a973-1fa4-4a35-ae35-a2e746c0e91b",
      "metadata": {
        "id": "81d2a973-1fa4-4a35-ae35-a2e746c0e91b"
      },
      "source": [
        "## Identify types of emotions"
      ]
    },
    {
      "cell_type": "code",
      "execution_count": null,
      "id": "8aa7934b",
      "metadata": {
        "height": 183,
        "id": "8aa7934b",
        "colab": {
          "base_uri": "https://localhost:8080/"
        },
        "outputId": "565fda9c-481b-4c70-c1be-02e1d2940171"
      },
      "outputs": [
        {
          "output_type": "stream",
          "name": "stdout",
          "text": [
            "Here is the list of emotions expressed by the writer of the review:\n",
            "\n",
            "angry, frustrated, disappointed, annoyed, bitter\n"
          ]
        }
      ],
      "source": [
        "prompt = f\"\"\"\n",
        "Identify a list of emotions that the writer of the \\\n",
        "following review is expressing. Include no more than \\\n",
        "five items in the list. Format your answer as a list of \\\n",
        "lower-case words separated by commas.\n",
        "\n",
        "Review text: '''{lamp_review}'''\n",
        "\"\"\"\n",
        "response = get_completion(prompt)\n",
        "print(response)"
      ]
    },
    {
      "cell_type": "markdown",
      "id": "a428d093-51c9-461c-b41e-114e80876409",
      "metadata": {
        "id": "a428d093-51c9-461c-b41e-114e80876409"
      },
      "source": [
        "## Identify anger"
      ]
    },
    {
      "cell_type": "code",
      "execution_count": null,
      "id": "dba1a538",
      "metadata": {
        "height": 166,
        "id": "dba1a538",
        "colab": {
          "base_uri": "https://localhost:8080/"
        },
        "outputId": "2b01cee7-0896-4312-c30f-e32f8a50f23b"
      },
      "outputs": [
        {
          "output_type": "stream",
          "name": "stdout",
          "text": [
            "Yes\n"
          ]
        }
      ],
      "source": [
        "prompt = f\"\"\"\n",
        "Is the writer of the following review expressing anger?\\\n",
        "The review is delimited with triple backticks. \\\n",
        "Give your answer as either yes or no.\n",
        "\n",
        "Review text: '''{lamp_review}'''\n",
        "\"\"\"\n",
        "response = get_completion(prompt)\n",
        "print(response)"
      ]
    },
    {
      "cell_type": "markdown",
      "id": "936a771e-ca78-4e55-8088-2da6f3820ddc",
      "metadata": {
        "id": "936a771e-ca78-4e55-8088-2da6f3820ddc"
      },
      "source": [
        "## Extract product and company name from customer reviews"
      ]
    },
    {
      "cell_type": "code",
      "execution_count": null,
      "id": "a13bea1b",
      "metadata": {
        "height": 285,
        "id": "a13bea1b",
        "colab": {
          "base_uri": "https://localhost:8080/"
        },
        "outputId": "9f6cfdd7-bcbc-44d4-cda1-d00a0dac9e42"
      },
      "outputs": [
        {
          "output_type": "stream",
          "name": "stdout",
          "text": [
            "Here is the response in JSON format:\n",
            "\n",
            "```\n",
            "{\n",
            "  \"Item\": \"vivo v7\",\n",
            "  \"Brand\": \"vivo\"\n",
            "}\n",
            "```\n"
          ]
        }
      ],
      "source": [
        "prompt = f\"\"\"\n",
        "Identify the following items from the review text:\n",
        "- Item purchased by reviewer\n",
        "- Company that made the item\n",
        "\n",
        "The review is delimited with triple backticks. \\\n",
        "Format your response as a JSON object with \\\n",
        "\"Item\" and \"Brand\" as the keys.\n",
        "If the information isn't present, use \"unknown\" \\\n",
        "as the value.\n",
        "Make your response as short as possible.\n",
        "\n",
        "Review text: '''{lamp_review}'''\n",
        "\"\"\"\n",
        "response = get_completion(prompt)\n",
        "print(response)"
      ]
    },
    {
      "cell_type": "markdown",
      "id": "a38880a5-088f-4609-9913-f8fa41fb7ba0",
      "metadata": {
        "id": "a38880a5-088f-4609-9913-f8fa41fb7ba0"
      },
      "source": [
        "## Doing multiple tasks at once"
      ]
    },
    {
      "cell_type": "code",
      "execution_count": null,
      "id": "e7dda9e5",
      "metadata": {
        "height": 336,
        "id": "e7dda9e5",
        "colab": {
          "base_uri": "https://localhost:8080/"
        },
        "outputId": "4b80f44d-c653-4b72-ff98-8778bf0e0114"
      },
      "outputs": [
        {
          "output_type": "stream",
          "name": "stdout",
          "text": [
            "Here is the response in JSON format:\n",
            "\n",
            "```\n",
            "{\n",
            "  \"Sentiment\": \"negative\",\n",
            "  \"Anger\": true,\n",
            "  \"Item\": \"vivo v7\",\n",
            "  \"Brand\": \"vivo\"\n",
            "}\n",
            "```\n"
          ]
        }
      ],
      "source": [
        "prompt = f\"\"\"\n",
        "Identify the following items from the review text:\n",
        "- Sentiment (positive or negative)\n",
        "- Is the reviewer expressing anger? (true or false)\n",
        "- Item purchased by reviewer\n",
        "- Company that made the item\n",
        "\n",
        "The review is delimited with triple backticks. \\\n",
        "Format your response as a JSON object with \\\n",
        "\"Sentiment\", \"Anger\", \"Item\" and \"Brand\" as the keys.\n",
        "If the information isn't present, use \"unknown\" \\\n",
        "as the value.\n",
        "Make your response as short as possible.\n",
        "Format the Anger value as a boolean.\n",
        "\n",
        "Review text: '''{lamp_review}'''\n",
        "\"\"\"\n",
        "response = get_completion(prompt)\n",
        "print(response)"
      ]
    },
    {
      "cell_type": "markdown",
      "id": "235fc223-2c89-49ec-ac2d-78a8e74a43ac",
      "metadata": {
        "id": "235fc223-2c89-49ec-ac2d-78a8e74a43ac"
      },
      "source": [
        "## Inferring topics\n",
        "ข่าวจากเวป GISDA https://www.gistda.or.th/news_view.php?n_id=7569&lang=TH"
      ]
    },
    {
      "cell_type": "code",
      "execution_count": null,
      "id": "8a74cc3e",
      "metadata": {
        "height": 487,
        "id": "8a74cc3e"
      },
      "outputs": [],
      "source": [
        "story = \"\"\"\n",
        "14 มีนาคม 2567 กระทรวงการอุดมศึกษา วิทยาศาสตร์ วิจัยและนวัตกรรม (อว.)\n",
        "โดยสำนักงานพัฒนาเทคโนโลยีอวกาศและภูมิสารสนเทศ (องค์การมหาชน) หรือ GISTDA\n",
        "ร่วมลงนามความร่วมมือกับ องค์การบริหารการบินและอวกาศแห่งชาติ สหรัฐอเมริกา หรือ NASA\n",
        "ภายใต้โครงการ Airborne and Satellite Investigation of Asian Air Quality (ASIA-AQ)\n",
        "เพื่อร่วมกันศึกษาคุณภาพอากาศในประเทศไทย โดยมี นางสาวศุภมาส อิศรภักดี รัฐมนตรีว่าการกระทรวง อว.\n",
        "ร่วมเป็นสักขีพยานในการลงนามครั้งนี้ ณ โรงแรมเรเนซองส์ พัทยา รีสอร์ท แอนด์ สปา จังหวัดชลบุรี\n",
        ".\n",
        "ความร่วมมือระหว่าง NASA และ GISTDA เกิดขึ้นอย่างเป็นรูปธรรมตามแนวทางของกระทรวง อว.\n",
        "ที่ต้องการผลักดันนโยบายให้สามารถช่วยเหลือสังคมได้อย่างแท้จริง\n",
        "นับเป็นความก้าวหน้าทางด้านวิทยาศาสตร์และเทคโนโลยีของประเทศที่สะท้อนถึงความสำเร็จ\n",
        "จากความทุ่มเทที่ต้องการใช้เครื่องมือทางวิทยาศาตร์ในการแก้ไขปัญหาในระดับประเทศที่กำลัง\n",
        "เผชิญอยู่ในชีวิตประจำวันโดยเฉพาะด้านสิ่งแวดล้อมซึ่งทุกวันนี้มลพิษทางอากาศนับว่ามีความรุนแรงเพิ่มมากขึ้น\n",
        "ภายใต้ความร่วมมือนี้จะมีการใช้ประโยชน์ที่ได้จากการสำรวจทางอากาศ การสำรวจด้วยดาวเทียม\n",
        "รวมถึงภาคพื้นดินเพื่อนำมาบูรณาการในการแก้ไขปัญหา\n",
        "การจัดการและลดมลพิษทางอากาศเพื่อคุณภาพชีวิตที่ดีของคนไทยต่อไป\n",
        "ตามนโยบายของรัฐบาลและกระทรวง อว. ที่ได้วางไว้\n",
        "\n",
        "โครงการ Airborne and Satellite Investigation of Asian Air Quality\n",
        "เป็นโครงการที่ริเริ่มโดย NASA เพื่อร่วมมือกับหน่วยงานต่างๆ ศึกษาปัญหาคุณภาพอากาศในเอเซีย โดย NASA\n",
        "จะทำงานร่วมกับหน่วยงานในภูมิภาคเพื่อรวบรวมข้อมูลสำหรับการศึกษาด้านอากาศโดยใช้เครื่องบิน\n",
        "สถานีภาคพื้นดิน และดาวเทียมสำรวจ ซึ่งโครงการนี้ NASA มีความร่วมมือกับ พันธมิตรในเอเชีย 5 ราย\n",
        "ได้แก่ สาธารณรัฐเกาหลี ไต้หวัน ฟิลิปปินส์ มาเลเซีย และประเทศไทย\n",
        "โดยมี GISTDA ทำหน้าที่เป็นหน่วยงานหลักในการจัดตั้งทีมร่วมกับนักวิทยาศาสตร์ไทยเพื่อทำงานร่วมกับ NASA\n",
        "โดยทีมวิชาการประกอบด้วย กรมควบคุมมลพิษ มหาวิทยาลัยศิลปากร\n",
        "และสถาบันเทคโนโลยีพระจอมเกล้าเจ้าคุณทหารลาดกระบัง\n",
        "และในการบินเพื่อเก็บข้อมูลอากาศในครั้งนี้\n",
        "ได้รับการสนับสนุนการดำเนินการจากกระทรวงกลาโหมและหน่วยงานทางทหารที่เกี่ยวข้อง\n",
        "(กองทัพอากาศ กองทัพเรือ กรมแผนที่ทหาร), บริษัท วิทยุการบินแห่งประเทศไทย จำกัด\n",
        "และสำนักงานการบินพลเรือนแห่งประเทศไทย (CAAT)\n",
        ".\n",
        "นอกจากนี้ยังมีกิจกรรมอื่นๆ ที่ NASA ร่วมกับสถาบันส่งเสริมการสอนวิทยาศาสตร์และเทคโนโลยี\n",
        "และ GISTDA จัดขึ้นภายใต้โครงการนี้ เช่น การอบรมเชิงปฏิบัติด้านอวกาศและดาวเทียมให้กับนิสิตนักศึกษา\n",
        "ภายใต้โครงการ GLOBE ณ Space Inspirium อุทยานรังสรรค์นวัตกรรมอวกาศ อำเภอศรีราชา จังหวัดชลบุรี\n",
        "กิจกรรมการแบ่งปันและแลกเปลี่ยนประสบการณ์ทำงานจากนักบินและนักวิทยาศาสตร์ NASA กับนักวิทยาศาสตร์ไทย\n",
        "รวมถึงกิจกรรมอื่นๆ อีกมากมายที่เกี่ยวข้องกับการถ่ายทอดองค์ความรู้ในการใช้เทคโนโลยีอวกาศในการศึกษา\n",
        "และสำรวจมลพิษทางอากาศ ข้อมูลที่ได้จากการสำรวจคุณภาพอากาศในประเทศไทย\n",
        "ช่วยให้เข้าใจและเข้าถึงปัจจัยที่ใช้ในการควบคุมคุณภาพอากาศในพื้นที่ต่างๆ\n",
        "เพื่อนำมาใช้ในการติดตามสถานการณ์การประเมินการปล่อยแก๊สจากแหล่งต่างๆ\n",
        "ปรากฏการณ์ทางเคมี รวมถึงผลกระทบจากด้านการขนส่งประเภทต่างๆ\n",
        "โดยผ่านการสร้างแบบจำลองที่หลากหลายเพื่อใช้สำหรับการออกแบบนโยบาย\n",
        "ในการบริหารจัดการมลพิษทางอากาศในประเทศไทยและภูมิภาคเอเชียต่อไป ผู้อำนวยการ GISTDA กล่าว\n",
        "\"\"\""
      ]
    },
    {
      "cell_type": "markdown",
      "id": "a8ea91d6-e841-4ee2-bed9-ca4a36df177f",
      "metadata": {
        "id": "a8ea91d6-e841-4ee2-bed9-ca4a36df177f"
      },
      "source": [
        "## Infer 5 topics"
      ]
    },
    {
      "cell_type": "code",
      "execution_count": null,
      "id": "5c267cbe",
      "metadata": {
        "height": 217,
        "id": "5c267cbe",
        "colab": {
          "base_uri": "https://localhost:8080/"
        },
        "outputId": "3eaca504-7261-442a-f011-8aae3dfea014"
      },
      "outputs": [
        {
          "output_type": "stream",
          "name": "stdout",
          "text": [
            "Here are the five topics being discussed in the text, formatted as a list of items separated by commas:\n",
            "\n",
            "Air Quality, Space Technology, Environmental Issues, Scientific Research, International Cooperation\n"
          ]
        }
      ],
      "source": [
        "prompt = f\"\"\"\n",
        "Determine five topics that are being discussed in the \\\n",
        "following text, which is delimited by triple ticks.\n",
        "\n",
        "Make each item one or two words long.\n",
        "\n",
        "Format your response as a list of items separated by commas.\n",
        "\n",
        "Text sample: '''{story}'''\n",
        "\"\"\"\n",
        "response = get_completion(prompt)\n",
        "print(response)"
      ]
    },
    {
      "cell_type": "code",
      "execution_count": null,
      "id": "94b8fa65",
      "metadata": {
        "height": 81,
        "id": "94b8fa65"
      },
      "outputs": [],
      "source": [
        "topic_list = [\n",
        "    \"nasa\", \"air quality\", \"science\", \"cooperation\",\n",
        "    \"pollution\", \"international\", \"higher education\",\n",
        "    \"local government\", \"engineering\",\n",
        "    \"employee satisfaction\", \"federal government\"\n",
        "]"
      ]
    },
    {
      "cell_type": "markdown",
      "id": "34be1d2a-1309-4512-841a-b6f67338938b",
      "metadata": {
        "id": "34be1d2a-1309-4512-841a-b6f67338938b"
      },
      "source": [
        "## Make a news alert for certain topics"
      ]
    },
    {
      "cell_type": "code",
      "execution_count": null,
      "id": "626c5b8e",
      "metadata": {
        "height": 234,
        "id": "626c5b8e",
        "colab": {
          "base_uri": "https://localhost:8080/"
        },
        "outputId": "da2ec5b2-87b1-4688-d0f7-1bcba6f4df5c"
      },
      "outputs": [
        {
          "output_type": "stream",
          "name": "stdout",
          "text": [
            "Here is the list of topics with 0 or 1 indicating whether each topic is present in the text:\n",
            "\n",
            "```\n",
            "{\n",
            "  \"nasa\": 1,\n",
            "  \"air quality\": 1,\n",
            "  \"science\": 1,\n",
            "  \"cooperation\": 1,\n",
            "  \"pollution\": 1,\n",
            "  \"international\": 1,\n",
            "  \"higher education\": 1,\n",
            "  \"local government\": 0,\n",
            "  \"engineering\": 0,\n",
            "  \"employee satisfaction\": 0,\n",
            "  \"federal government\": 0\n",
            "}\n",
            "```\n",
            "\n",
            "Note that some topics may be mentioned indirectly or in a related context, but I've only marked them as 1 if they are explicitly mentioned in the text.\n"
          ]
        }
      ],
      "source": [
        "prompt = f\"\"\"\n",
        "Determine whether each item in the following list of \\\n",
        "topics is a topic in the text below, which\n",
        "is delimited with triple backticks.\n",
        "\n",
        "Give your answer as list with 0 or 1 for each topic.\\\n",
        "for example\n",
        "nasa : 1\n",
        "\n",
        "List of topics: {\", \".join(topic_list)}\n",
        "\n",
        "Format your response as a JSON object.\n",
        "\n",
        "Text sample: '''{story}'''\n",
        "\"\"\"\n",
        "response = get_completion(prompt)\n",
        "print(response)"
      ]
    },
    {
      "cell_type": "code",
      "execution_count": null,
      "id": "7b28e378",
      "metadata": {
        "id": "7b28e378"
      },
      "outputs": [],
      "source": [
        "import json\n",
        "def extract_json_part(text):\n",
        "  # Find the start and end of the JSON object\n",
        "  start = text.find('{')\n",
        "  end = text.rfind('}') + 1\n",
        "\n",
        "  # Extract the JSON object as a string\n",
        "  json_string = text[start:end]\n",
        "\n",
        "  # Attempt to parse the JSON string\n",
        "  try:\n",
        "    json_object = json.loads(json_string)\n",
        "    return json_object\n",
        "  except json.JSONDecodeError as e:\n",
        "    print(f\"Error decoding JSON: {e}\")\n",
        "    return None\n"
      ]
    },
    {
      "cell_type": "code",
      "execution_count": null,
      "id": "d65b12a6",
      "metadata": {
        "id": "d65b12a6",
        "colab": {
          "base_uri": "https://localhost:8080/"
        },
        "outputId": "ce9f0782-2621-4b63-9871-494909a62847"
      },
      "outputs": [
        {
          "output_type": "stream",
          "name": "stdout",
          "text": [
            "{'nasa': 1, 'air quality': 1, 'science': 1, 'cooperation': 1, 'pollution': 1, 'international': 1, 'higher education': 1, 'local government': 0, 'engineering': 0, 'employee satisfaction': 0, 'federal government': 0}\n"
          ]
        }
      ],
      "source": [
        "extracted_json = extract_json_part(response)\n",
        "print(extracted_json)"
      ]
    },
    {
      "cell_type": "code",
      "execution_count": null,
      "id": "902a7c74",
      "metadata": {
        "height": 79,
        "id": "902a7c74",
        "colab": {
          "base_uri": "https://localhost:8080/"
        },
        "outputId": "a2531f0b-da4e-489c-e242-a8b74470c2be"
      },
      "outputs": [
        {
          "output_type": "stream",
          "name": "stdout",
          "text": [
            "ALERT: News related to NASA\n"
          ]
        }
      ],
      "source": [
        "if extracted_json['nasa'] == 1:\n",
        "    print(\"ALERT: News related to NASA\")"
      ]
    },
    {
      "cell_type": "code",
      "source": [
        "if extracted_json['local government'] ==1:\n",
        "    print(\"ALERT: News related to local government\")\n",
        "else:\n",
        "    print(\"No news related to local government\")"
      ],
      "metadata": {
        "colab": {
          "base_uri": "https://localhost:8080/"
        },
        "id": "TvT2dDRd6U9W",
        "outputId": "afb11c00-13a4-4016-e308-a8c09fe4eb3b"
      },
      "id": "TvT2dDRd6U9W",
      "execution_count": null,
      "outputs": [
        {
          "output_type": "stream",
          "name": "stdout",
          "text": [
            "No news related to local government\n"
          ]
        }
      ]
    },
    {
      "cell_type": "markdown",
      "id": "f88408ae-469a-4b02-a043-f6b4f0b14bf9",
      "metadata": {
        "id": "f88408ae-469a-4b02-a043-f6b4f0b14bf9"
      },
      "source": [
        "## Try experimenting on your own!"
      ]
    },
    {
      "cell_type": "code",
      "execution_count": null,
      "id": "1bd3553f",
      "metadata": {
        "height": 30,
        "id": "1bd3553f"
      },
      "outputs": [],
      "source": []
    }
  ],
  "metadata": {
    "colab": {
      "provenance": [],
      "include_colab_link": true
    },
    "kernelspec": {
      "display_name": "Python 3 (ipykernel)",
      "language": "python",
      "name": "python3"
    },
    "language_info": {
      "codemirror_mode": {
        "name": "ipython",
        "version": 3
      },
      "file_extension": ".py",
      "mimetype": "text/x-python",
      "name": "python",
      "nbconvert_exporter": "python",
      "pygments_lexer": "ipython3",
      "version": "3.10.13"
    }
  },
  "nbformat": 4,
  "nbformat_minor": 5
}