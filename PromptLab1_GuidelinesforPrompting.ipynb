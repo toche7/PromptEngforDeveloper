{
  "cells": [
    {
      "cell_type": "markdown",
      "metadata": {
        "id": "view-in-github",
        "colab_type": "text"
      },
      "source": [
        "<a href=\"https://colab.research.google.com/github/toche7/PromptEngforDeveloper/blob/main/PromptLab1_GuidelinesforPrompting.ipynb\" target=\"_parent\"><img src=\"https://colab.research.google.com/assets/colab-badge.svg\" alt=\"Open In Colab\"/></a>"
      ]
    },
    {
      "cell_type": "markdown",
      "id": "7ebe2e9d-685d-4ea3-ab7c-9589caaabff5",
      "metadata": {
        "id": "7ebe2e9d-685d-4ea3-ab7c-9589caaabff5"
      },
      "source": [
        "# Guidelines for Prompting\n",
        "ในบทนี้ เราจะได้ฝึกฝนหลักการสองประการในการใช้ prompt และเทคนิควิธีที่เกี่ยวข้องเพื่อเขียน  prompt ที่มีประสิทธิภาพสำหรับ  LLM (large language models).\n",
        "\n",
        "\n",
        "\n",
        "\n",
        "## Setup\n",
        "#### Load the API key and relevant Python libaries."
      ]
    },
    {
      "cell_type": "markdown",
      "id": "00bab499-9a50-4bd0-a622-1c914c6ccc29",
      "metadata": {
        "id": "00bab499-9a50-4bd0-a622-1c914c6ccc29"
      },
      "source": [
        "ในกรณีที่ใช้ Google Colab จำเป็นที่จะต้องติดตั้ง Library ของ Groq ก่อนตามตัวอย่างด้านล่าง และ\n",
        "ใน Course นี้ผู้เรียนจะต้องไปเอา API Key มาจากเวปไซท์ของ Groq"
      ]
    },
    {
      "cell_type": "code",
      "execution_count": null,
      "id": "zqLhVIy_gqm9",
      "metadata": {
        "id": "zqLhVIy_gqm9"
      },
      "outputs": [],
      "source": [
        "# !pip -q install python-dotenv\n",
        "!pip -q install groq"
      ]
    },
    {
      "cell_type": "code",
      "execution_count": null,
      "id": "ff356315",
      "metadata": {
        "id": "ff356315"
      },
      "outputs": [],
      "source": [
        "#=========VSCode=====================================================================\n",
        "# from dotenv import find_dotenv, load_dotenv\n",
        "# _ = load_dotenv(find_dotenv())\n",
        "# import os\n",
        "# secret_key = os.environ.get(\"GROQ_API_KEY\")\n",
        "#========google.colab======================================================================\n",
        "from google.colab import userdata\n",
        "secret_key = userdata.get('GROQ_API_KEY')\n",
        "\n"
      ]
    },
    {
      "cell_type": "code",
      "execution_count": null,
      "id": "c9d394aa",
      "metadata": {
        "id": "c9d394aa"
      },
      "outputs": [],
      "source": [
        "from groq import Groq\n",
        "\n",
        "clientGroq = Groq(\n",
        "    api_key= secret_key,\n",
        ")"
      ]
    },
    {
      "cell_type": "code",
      "source": [],
      "metadata": {
        "id": "nnIH8y_rjpiB"
      },
      "id": "nnIH8y_rjpiB",
      "execution_count": null,
      "outputs": []
    },
    {
      "cell_type": "markdown",
      "id": "EJTazbx-5E2Z",
      "metadata": {
        "id": "EJTazbx-5E2Z"
      },
      "source": []
    },
    {
      "cell_type": "markdown",
      "id": "a3acefa8-f8f1-4ef8-932e-9bcefa142666",
      "metadata": {
        "id": "a3acefa8-f8f1-4ef8-932e-9bcefa142666"
      },
      "source": [
        "#### helper function\n",
        "ตลอดการอบรมนี้ เราจะใช้ Model llama3 ผ่านทางบริการของ Groq\n",
        "\n",
        "Function ด้านล่างจะช่วยให้เราเขียนโปรแกรมได้ง่ายขึ้น"
      ]
    },
    {
      "cell_type": "code",
      "execution_count": null,
      "id": "a7dff174",
      "metadata": {
        "id": "a7dff174",
        "tags": []
      },
      "outputs": [],
      "source": [
        "def get_completion(prompt, model= \"llama3-70b-8192\", clientGroq = clientGroq):\n",
        "    messages = [{\"role\": \"user\", \"content\": prompt}]\n",
        "    response = clientGroq.chat.completions.create(\n",
        "        model=model,\n",
        "        messages=messages,\n",
        "        temperature=0,\n",
        "        max_tokens= 4000,\n",
        "        top_p = 0.5\n",
        "    )\n",
        "    return response.choices[0].message.content"
      ]
    },
    {
      "cell_type": "markdown",
      "id": "3b62298e-2181-4e73-bb40-77e20c655231",
      "metadata": {
        "id": "3b62298e-2181-4e73-bb40-77e20c655231"
      },
      "source": [
        "## หลักการเขียน  Prompt\n",
        "- **หลักการที่ 1: เขียนให้ชัดเจนและจำเพาะเจาะจง**\n",
        "- **หลักการที่ 2: ให้เวลาในการคิด**\n",
        "\n",
        "\n"
      ]
    },
    {
      "cell_type": "markdown",
      "id": "9JaYPYbGsReF",
      "metadata": {
        "id": "9JaYPYbGsReF"
      },
      "source": [
        "## Principle 1: เขียนให้ชัดเจนและจำเพาะเจาะจง\n",
        "\n",
        "#### Tactic 1: ใช้สัญลักษณ์พิเศษในการแบ่งแยกข้อความ แต่ละส่วนให้ชัดเจน\n",
        "- ทั้งนี้จะเป็นสัญลักษณ์อะไรก็ได้เช่น ```, \"\"\", < >, `<tag> </tag>`, `:`"
      ]
    },
    {
      "cell_type": "code",
      "execution_count": null,
      "id": "87121316",
      "metadata": {
        "id": "87121316",
        "tags": []
      },
      "outputs": [],
      "source": [
        "text = f\"\"\"\n",
        "กระแสน้องหมูเด้ง หรือ ฮิปโปแคระ ถือว่าเป็น ซอฟต์พาวเวอร์ เพราะไม่เพียงแต่คนไทยที่รู้จักแต่ยังโด่งดังไปทั่วโลก จะเห็นได้จากโซเชียลมีเดีย ที่มีการทำคอนเทนต์น้องหมูเด้งกันอย่างแพร่หลาย อีกทั้งได้มีการต่อยอดให้เกิดการสร้างมูลค่าทางเศรษฐกิจและสังคมไทย\n",
        "\"น้องหมูเด้ง\" หรือ ฮิปโปแคระ ที่กำลังเป็นดาวเด่นในสวนสัตว์เปิดเขาเขียว จ.ชลบุรี ปัจจุบันจัดเป็นอีกหนึ่งซอฟต์พาวเวอร์ของไทย ที่นักท่องเที่ยวให้ความสนใจแห่เข้าชมอย่างต่อเนื่อง รวมไปถึงขณะนี้ ยังสร้างมูลค่าทางเศรษฐกิจ ให้กับผู้ประกอบการ SME ได้ในหลายธุรกิจเลยทีเดียว\n",
        "กระแสน้องหมูเด้ง ทำให้นักท่องเที่ยวทั้งชาวไทยและชาวต่างชาติ ทยอยเดินทางเข้ามาเยี่ยมชมความน่ารักน้องหมูเด้งอย่างไม่ขาดสาย แม้จะเป็นวันธรรมดา ส่งผลให้รีสอร์ตที่พักในพื้นที่สวนสัตว์เปิดเขาเขียว ได้รับอานิสงส์ มีนักท่องเที่ยวจองห้องพักเต็ม ในช่วงนี้เพื่อเตรียมเข้าเยี่ยมชมน้องหมูเด้งให้ทันในช่วงเช้า\n",
        "นายณรงวิทย์ ชดช้อย ผู้อำนวยการสวนสัตว์เปิดเขาเขียว ยอมรับว่า กระแสน้องหมูเด้ง ส่งผลให้มีนักท่องเที่ยวเข้ามาเยี่ยมชมสวนสัตว์มากขึ้นเป็นเท่าตัว\n",
        "เพราะหากเทียบกับก่อนที่น้องหมูเด้งจะเกิด มีคนเข้ามาเที่ยวสวนสัตว์เปิดเขาเขียว เดือนละประมาณ 70,000 คน และตั้งแต่เดือนกรกฎาคม 2567 เป็นต้นมา มียอดนักท่องเที่ยว พุ่งขึ้นเป็น 84,000 คน เดือนสิงหาคมประมาณ 98,000 คน และสถิติล่าสุด เดือนกันยายนที่ผ่านมา มีประชาชนเข้ามาเที่ยวมากถึง 162,000 คน\n",
        "\"ตั้งเป้าหมายเดือนกันยายนไว้ที่ 70,000 คน แต่กลับมีนักท่องเที่ยวมากกว่าเท่าตัว และในเดือนตุลาคมจะเป็นช่วงที่ปิดเทอม คาดว่าจะมีเฉลี่ยต่อวันมากกว่า 7,000 คน\"\n",
        "ด้าน ผศ.เอกก์ ภทรธนกุล หัวหน้าภาควิชาการตลาด คณะพาณิชยศาสตร์และการบัญชี จุฬาลงกรณ์มหาวิทยาลัย ระบุว่า หมูเด้งมีกระแส จะต้องมีการคุ้มครองสิทธิ์ เพื่อไม่ให้ถูกเคลมสิทธิ์ ซึ่งเข้าใจว่าปัจจุบันองค์การสวนสัตว์แห่งประเทศไทยกำลังดำเนินการอยู่ ส่วนการที่จะทำให้หมูเด้งถูกกล่าวถึง ว่าจุดกำเนิดมาจากประเทศไทย หน่วยงานที่เกี่ยวข้องจะต้องต่อยอด โดยสร้างคาแรคเตอร์ของน้องหมูเด้ง ให้สอดรับกับความเป็นไทย และนำไปใช้ประโยชน์ทางสังคมและภาคการศึกษาได้อีกด้วย\n",
        "ตัวอย่างกระแสของน้องหมูเด้ง ที่ทำให้มีธุรกิจต่างๆ ได้นำมาต่อยอดในเชิงเศรษฐกิจ สร้างรายได้ที่ดีให้กับผู้ประกอบการ SME ในหลายธุรกิจ เช่น เสื้อผ้า อุปกรณ์ตกแต่งโทรศัพท์มือถือ สติ๊กเกอร์ไลน์ หมอน ตุ๊กตา และขนมเค้ก\n",
        "อย่างร้านเบเกอรี่ ที่นำรูปร่างลักษณะหมูเด้งมาผลิตเป็นขนมเค้ก ได้รับการตอบรับที่ดี มียอดสั่งออเดอร์จำนวนมาก กวาดรายได้ไปแล้วหลักแสน\n",
        "สำหรับสินค้าของที่ระลึกที่เกี่ยวข้องกับน้องหมูเด้ง ที่กำลังได้รับความนิยมขนาดนี้ องค์การสวนสัตว์แห่งประเทศไทย อยู่ระหว่างประกาศให้ผู้ที่มีความคิดสร้างสรรค์ ร่วมออกแบบ โลโก้น้องหมูเด้ง เพื่อจัดทำให้เป็นเจ้าของลิขสิทธิ์ และนำไปใช้เป็นตราสัญลักษณ์ และลิขสิทธิ์ประกอบผลิตภัณฑ์ต่างๆ ขององค์การสวนสัตว์ฯ อย่างเป็นทางการ\n",
        "แต่ตามกฎหมายแล้วกรมทรัพย์สินทางปัญญา ให้ข้อมูลเบื้องต้นว่า หากมีนักท่องเที่ยวหรือบุคคลใด ที่ถ่ายถาพน้องหมูเด้ง หรือวาดรูปขึ้นมาเองก็สามารถทำได้ แต่หากมีผู้นำผลงานที่ทำขึ้นมาแล้วไปทำซ้ำ ดัดแปลง ละเมิดลิขสิทธิ์ เผยแพร่โดยไม่ได้รับอนุญาต ทางเจ้าของลิขสิทธิ์สามารถดำเนินการทางกฏหมายได้ โดยมีค่าปรับไม่เกิน 800,000 บาท จำคุกไม่เกิน 4 ปี หรือทั้งจำทั้งปรับ\n",
        "สำหรับความคืบหน้าการจัดทำลิขสิทธิ์ สินค้าหรือผลิตภัณฑ์ที่เกี่ยวกับน้องหมูเด้ง ผู้อำนวยการสวนสัตว์เปิดเขาเขียว ระบุว่า ขณะนี้ได้ยื่นการจดทะเบียนเครื่องหมายการค้า ไปที่กรมทรัพย์สินทางปัญญาแล้ว ซึ่งก็อยู่ระหว่างการรออนุมัติจากกรมทรัพย์สินทางปัญญา\n",
        "\"\"\"\n",
        "prompt = f\"\"\"\n",
        "Summarize the text delimited by triple backticks \\\n",
        "into a single sentence in Thai.\n",
        "```{text}```\n",
        "\"\"\"\n",
        "response = get_completion(prompt)\n",
        "print(response)"
      ]
    },
    {
      "cell_type": "markdown",
      "id": "f2798f3d-7618-4ac5-a6b2-3c69c537903d",
      "metadata": {
        "id": "f2798f3d-7618-4ac5-a6b2-3c69c537903d"
      },
      "source": [
        "#### Tactic 2:  กำหนดรูปแบบของ output ที่ต้องการ\n",
        "- JSON, HTML"
      ]
    },
    {
      "cell_type": "code",
      "execution_count": null,
      "id": "6b50bbbd",
      "metadata": {
        "id": "6b50bbbd",
        "tags": []
      },
      "outputs": [],
      "source": [
        "prompt = f\"\"\"\n",
        "Generate a list of three made-up book titles along \\\n",
        "with their authors and genres.\n",
        "Provide them in JSON  with the following keys:\n",
        "book_id, title, author, genre.\n",
        "\"\"\"\n",
        "response = get_completion(prompt)\n",
        "print(response)"
      ]
    },
    {
      "cell_type": "markdown",
      "id": "22a71c4f-b1f1-4d67-ad5a-e49fc1e3147d",
      "metadata": {
        "id": "22a71c4f-b1f1-4d67-ad5a-e49fc1e3147d"
      },
      "source": [
        "#### Tactic 3: สั่งให้ model ตรวจสอบเงื่อนไขว่าเป็นไปตามที่กำหนดหรือไม่"
      ]
    },
    {
      "cell_type": "code",
      "execution_count": null,
      "id": "f0ae612e",
      "metadata": {
        "id": "f0ae612e",
        "tags": []
      },
      "outputs": [],
      "source": [
        "text_1 = f\"\"\"\n",
        "การชงชานั้นง่ายมาก! ก่อนอื่นคุณต้องต้มน้ำให้เดือด ขณะที่รอน้ำเดือด\n",
        "ให้หยิบถ้วยขึ้นมาแล้วใส่ถุงชาไว้ในถ้วยนั้น เมื่อได้น้ำร้อนเพียงพอแล้ว\n",
        "ให้เทน้ำลงบนถุงชา ปล่อยให้ชาซึมแช่ไว้สักครู่เพื่อให้ชากลั่นตัว\n",
        "หลังจากนั้นไม่กี่นาที ให้นำถุงชาออก หากคุณชอบ คุณสามารถเติมน้ำตาลหรือใส่นมเพื่อเพิ่มรสชาติได้เลย\n",
        "เพียงเท่านี้คุณก็จะได้ชาถ้วยอร่อยพร้อมดื่ม!\n",
        "\"\"\"\n",
        "prompt = f\"\"\"\n",
        "You will be provided with text delimited by triple quotes.\n",
        "If it contains a sequence of instructions, \\\n",
        "re-write those instructions in the following format:\n",
        "\n",
        "Step 1 - ...\n",
        "Step 2 - …\n",
        "…\n",
        "Step N - …\n",
        "\n",
        "If the text does not contain a sequence of instructions, \\\n",
        "then simply write \\\"No steps provided.\\\"\n",
        "\n",
        "\\\"\\\"\\\"{text_1}\\\"\\\"\\\"\n",
        "\"\"\"\n",
        "response = get_completion(prompt)\n",
        "print(\"Completion for Text 1:\")\n",
        "print(response)"
      ]
    },
    {
      "cell_type": "code",
      "execution_count": null,
      "id": "76b6cc59",
      "metadata": {
        "id": "76b6cc59",
        "tags": []
      },
      "outputs": [],
      "source": [
        "text_2 = f\"\"\"\n",
        "วันนี้แดดจ้าและนกกำลังร้องเพลง\n",
        "เป็นวันที่สวยงามเหมาะแก่การเดินเล่นในสวน ดอกไม้กำลังบานสะพรั่ง\n",
        "และต้นไม้กำลังเอนตัวตามสายลมที่พัดแผ่วเบา ผู้คนออกมาเพลิดเพลินกับอากาศดีๆ\n",
        "บางคนกำลังปิกนิก บางคนเล่นเกม หรือบางคนแค่นอนพักผ่อนบนสนามหญ้า\n",
        "เป็นวันที่สมบูรณ์แบบสำหรับการใช้เวลาอยู่กลางแจ้งและชื่นชมความงดงามของธรรมชาติ!\n",
        "\"\"\"\n",
        "prompt = f\"\"\"\n",
        "You will be provided with text delimited by triple quotes.\n",
        "If it contains a sequence of instructions, \\\n",
        "re-write those instructions in the following format:\n",
        "\n",
        "Step 1 - ...\n",
        "Step 2 - …\n",
        "…\n",
        "Step N - …\n",
        "\n",
        "If the text does not contain a sequence of instructions, \\\n",
        "then simply write \\\"No steps provided.\\\"\n",
        "\n",
        "\\\"\\\"\\\"{text_2}\\\"\\\"\\\"\n",
        "\"\"\"\n",
        "response = get_completion(prompt)\n",
        "print(\"Completion for Text 2:\")\n",
        "print(response)"
      ]
    },
    {
      "cell_type": "markdown",
      "id": "3c5866b8-d8c7-4e19-93db-401315f64954",
      "metadata": {
        "id": "3c5866b8-d8c7-4e19-93db-401315f64954"
      },
      "source": [
        "#### Tactic 4: \"Few-shot\" prompting หมายถึงการทำให้ดูเป็นตัวอย่างที่เราต้องการ และให้ทำตาม"
      ]
    },
    {
      "cell_type": "code",
      "execution_count": null,
      "id": "82ce1540",
      "metadata": {
        "id": "82ce1540",
        "tags": []
      },
      "outputs": [],
      "source": [
        "prompt = f\"\"\"\n",
        "Prompt:\n",
        "Classify the following texts into one of the categories: \"News,\" \"Review,\" or \"Joke.\"\n",
        "\n",
        "Example 1:\n",
        "Text: \"The new smartphone has been launched today, featuring cutting-edge AI technology!\"\n",
        "Category: \"News\"\n",
        "\n",
        "Example 2:\n",
        "Text: \"The food at this restaurant is amazing, especially the pizza! The cheese is so gooey!\"\n",
        "Category: \"Review\"\n",
        "\n",
        "Example 3:\n",
        "Text: \"Why did the chicken cross the road? To get to the other side!\"\n",
        "Category: \"Joke\"\n",
        "\n",
        "\n",
        "Text: \"This movie is so entertaining! The action scenes are incredible!\"\n",
        "\"\"\"\n",
        "response = get_completion(prompt)\n",
        "print(response)"
      ]
    },
    {
      "cell_type": "markdown",
      "id": "ece7a8ee-1a2d-415d-8c10-500ecff24b10",
      "metadata": {
        "id": "ece7a8ee-1a2d-415d-8c10-500ecff24b10"
      },
      "source": [
        "## Principle 2: \"ให้เวลาคิด\"\n",
        "\n",
        "#### Tactic 1: กำหนดขั้นตอนในการทำงานใดงานหนึ่งให้ชัดเจน อย่าคิดลัดนะ  "
      ]
    },
    {
      "cell_type": "code",
      "execution_count": null,
      "id": "5e7d6860",
      "metadata": {
        "id": "5e7d6860",
        "tags": []
      },
      "outputs": [],
      "source": [
        "text = f\"\"\"\n",
        "ในหมู่บ้านที่มีเสน่ห์แห่งหนึ่ง พี่น้อง แจ็ค และ จิลล์ ออกเดินทางไปยังยอดเขาเพื่อตักน้ำจากบ่อน้ำบนเนินเขา\n",
        "ขณะที่พวกเขาปีนขึ้นไปด้วยการร้องเพลงอย่างร่าเริง ความโชคร้ายก็เกิดขึ้น—แจ็คสะดุดก้อนหินและกลิ้งลงจากเนินเขา\n",
        "โดยมีจิลล์ตามมาด้วย แม้จะได้รับบาดเจ็บเล็กน้อย ทั้งคู่กลับบ้านไปหาความอบอุ่นจากอ้อมกอดของครอบครัว\n",
        "แม้จะเกิดอุบัติเหตุขึ้น แต่จิตวิญญาณแห่งการผจญภัยของพวกเขาก็ยังคงไม่ถูกลดทอน\n",
        "ทั้งคู่ยังคงออกสำรวจด้วยความสนุกสนานอย่างต่อเนื่อง\n",
        "\"\"\"\n",
        "# example 1\n",
        "prompt_1 = f\"\"\"\n",
        "Perform the following actions:\n",
        "1 - Summarize the following text delimited by triple \\\n",
        "backticks with 1 sentence.\n",
        "2 - Translate the summary into Thai.\n",
        "3 - List each name in the Thai summary.\n",
        "4 - Output a json object that contains the following \\\n",
        "keys: thai_summary, num_names.\n",
        "\n",
        "Separate your answers with line breaks.\n",
        "\n",
        "Text:\n",
        "```{text}```\n",
        "\"\"\"\n",
        "response = get_completion(prompt_1)\n",
        "print(\"Completion for prompt 1:\")\n",
        "print(response)"
      ]
    },
    {
      "cell_type": "markdown",
      "id": "d0bb1dcf-95f5-4ee1-8c25-8b2abd5f0f0d",
      "metadata": {
        "id": "d0bb1dcf-95f5-4ee1-8c25-8b2abd5f0f0d"
      },
      "source": [
        "#### สั่งให้แสดงในรูปแบบที่ต้องการได้"
      ]
    },
    {
      "cell_type": "code",
      "execution_count": null,
      "id": "3e4222cc",
      "metadata": {
        "id": "3e4222cc",
        "tags": []
      },
      "outputs": [],
      "source": [
        "prompt_2 = f\"\"\"\n",
        "Your task is to perform the following actions:\n",
        "1 - Summarize the following text delimited by\n",
        "  <> with 1 sentence.\n",
        "2 - Translate the summary into Thai.\n",
        "3 - List each name in the Thai summary.\n",
        "4 - Output a json object that contains the\n",
        "  following keys: thai_summary, num_names.\n",
        "\n",
        "Use the following format:\n",
        "Text: <text to summarize>\n",
        "Summary: <summary>\n",
        "Translation: <summary translation>\n",
        "Names: <list of names in summary>\n",
        "Output JSON: <json with summary and num_names>\n",
        "\n",
        "Text: <{text}>\n",
        "\"\"\"\n",
        "response = get_completion(prompt_2)\n",
        "print(\"\\nCompletion for prompt 2:\")\n",
        "print(response)"
      ]
    },
    {
      "cell_type": "markdown",
      "id": "fec80fdb-92db-48f6-8f1d-b03c26385bad",
      "metadata": {
        "id": "fec80fdb-92db-48f6-8f1d-b03c26385bad"
      },
      "source": [
        "#### Tactic 2:  สั่งให้แบบจำลองแสดงวิธีการคิดหรือทำงานออกมาก่อนที่จะสรุปผล"
      ]
    },
    {
      "cell_type": "code",
      "execution_count": null,
      "id": "ff5cc985",
      "metadata": {
        "id": "ff5cc985",
        "tags": []
      },
      "outputs": [],
      "source": [
        "prompt = f\"\"\"\n",
        "Your task is to determine if the student's solution \\\n",
        "is correct or not.\n",
        "\n",
        "คำถาม:\n",
        "ฉันกำลังสร้างระบบพลังงานแสงอาทิตย์ และต้องการความช่วยเหลือในการคำนวณด้านการเงิน\n",
        "- ราคาที่ดิน: $100 ต่อตารางฟุต\n",
        "- ฉันสามารถซื้อแผงโซลาร์เซลล์ในราคา $250 ต่อตารางฟุต\n",
        "- ฉันเจรจาสัญญาค่าบำรุงรักษาซึ่งจะมีค่าใช้จ่าย $100,000 ต่อปี และเพิ่มอีก $10 ต่อตารางฟุต\n",
        "\n",
        "จงหาค่าใช้จ่ายทั้งหมดในปีแรกของการดำเนินการในรูปแบบของฟังก์ชันที่ขึ้นกับจำนวนพื้นที่เป็นตารางฟุต\n",
        "\n",
        "คำตอบของนักเรียน:\n",
        "กำหนดให้ x เป็นขนาดของระบบในหน่วยตารางฟุต\n",
        "ค่าใช้จ่าย:\n",
        "1. ค่าที่ดิน: 100x\n",
        "2. ค่าแผงโซลาร์เซลล์: 250x\n",
        "3. ค่าบำรุงรักษา: 100,000 + 10x\n",
        "\n",
        "ค่าใช้จ่ายรวม:\n",
        "100x + 250x + 100,000 + 10x = 450x + 100,000\n",
        "\"\"\"\n",
        "response = get_completion(prompt)\n",
        "print(response)"
      ]
    },
    {
      "cell_type": "markdown",
      "id": "f322ebd9-0f8a-43aa-97fe-5eac70cdcc6a",
      "metadata": {
        "id": "f322ebd9-0f8a-43aa-97fe-5eac70cdcc6a"
      },
      "source": [
        "- เราจะพบว่าคำตอบที่ได้จะยังไม่ถูกต้อง\n",
        "- เราสามารถแก้ไขได้โดยการสั้งให้ model ดำเนินการเป็นขั้นตอนก่อนที่จะตอบคำถามนั้น"
      ]
    },
    {
      "cell_type": "code",
      "source": [
        "question = \"\"\"ฉันกำลังสร้างระบบพลังงานแสงอาทิตย์ และต้องการความช่วยเหลือในการคำนวณด้านการเงิน\n",
        "- ราคาที่ดิน: $100 ต่อตารางฟุต\n",
        "- ฉันสามารถซื้อแผงโซลาร์เซลล์ในราคา $250 ต่อตารางฟุต\n",
        "- ฉันเจรจาสัญญาค่าบำรุงรักษาซึ่งจะมีค่าใช้จ่าย $100,000 ต่อปี และเพิ่มอีก $10 ต่อตารางฟุต\n",
        "\n",
        "จงหาค่าใช้จ่ายทั้งหมดในปีแรกของการดำเนินการในรูปแบบของฟังก์ชันที่ขึ้นกับจำนวนพื้นที่เป็นตารางฟุต\"\"\"\n",
        "\n",
        "solution = \"\"\" คำตอบของนักเรียน:\n",
        "กำหนดให้ x เป็นขนาดของระบบในหน่วยตารางฟุต\n",
        "ค่าใช้จ่าย:\n",
        "1. ค่าที่ดิน: 100x\n",
        "2. ค่าแผงโซลาร์เซลล์: 250x\n",
        "3. ค่าบำรุงรักษา: 100,000 + 10x\n",
        "ค่าใช้จ่ายรวม:\n",
        "100x + 250x + 100,000 + 10x = 450x + 100,000\n",
        "\"\"\""
      ],
      "metadata": {
        "id": "BfuVZMyBDHdm"
      },
      "id": "BfuVZMyBDHdm",
      "execution_count": null,
      "outputs": []
    },
    {
      "cell_type": "code",
      "execution_count": null,
      "id": "703f7003",
      "metadata": {
        "id": "703f7003",
        "tags": []
      },
      "outputs": [],
      "source": [
        "prompt = f\"\"\"\n",
        "Your task is to determine if the student's solution \\\n",
        "is correct or not.\n",
        "To solve the problem do the following:\n",
        "- First, work out your own solution to the problem including the final total.\n",
        "- Then compare your solution to the student's solution \\\n",
        "and evaluate if the student's solution is correct or not.\n",
        "Don't decide if the student's solution is correct until\n",
        "you have done the problem yourself.\n",
        "\n",
        "Use the following format:\n",
        "Question:\n",
        "```\n",
        "question here\n",
        "```\n",
        "Student's solution:\n",
        "```\n",
        "student's solution here\n",
        "```\n",
        "Actual solution:\n",
        "```\n",
        "steps to work out the solution and your solution here\n",
        "```\n",
        "Is the student's solution the same as actual solution \\\n",
        "just calculated:\n",
        "```\n",
        "yes or no\n",
        "```\n",
        "Student grade:\n",
        "```\n",
        "correct or incorrect\n",
        "```\n",
        "\n",
        "Question:\n",
        "```\n",
        "{question}\n",
        "```\n",
        "Student's solution:\n",
        "```\n",
        "{solution}\n",
        "```\n",
        "Actual solution:\n",
        "```\n",
        "....\n",
        "```\n",
        "\n",
        "Use the following format:\n",
        "Question:\n",
        "```\n",
        "question here\n",
        "```\n",
        "Student's solution:\n",
        "```\n",
        "student's solution here\n",
        "```\n",
        "Actual solution:\n",
        "```\n",
        "steps to work out the solution and your solution here\n",
        "```\n",
        "Is the student's solution the same as actual solution \\\n",
        "just calculated:\n",
        "```\n",
        "yes or no\n",
        "```\n",
        "Student grade:\n",
        "```\n",
        "correct or incorrect\n",
        "```\n",
        "\"\"\"\n",
        "response = get_completion(prompt)\n",
        "print(response)"
      ]
    },
    {
      "cell_type": "markdown",
      "id": "8a207eab-a1b1-47a5-b913-fe38086123d0",
      "metadata": {
        "id": "8a207eab-a1b1-47a5-b913-fe38086123d0"
      },
      "source": [
        "## Model Limitations: Hallucinations\n",
        "- Let try about ITM."
      ]
    },
    {
      "cell_type": "code",
      "execution_count": null,
      "id": "81c80919",
      "metadata": {
        "id": "81c80919",
        "tags": []
      },
      "outputs": [],
      "source": [
        "prompt = f\"\"\"\n",
        "Tell me about  ITM, Faculy of Engineering, Mahidol University\n",
        "\"\"\"\n",
        "response = get_completion(prompt)\n",
        "print(response)"
      ]
    },
    {
      "cell_type": "markdown",
      "id": "eea88a6e-0141-4296-a73b-6b2282fe0de6",
      "metadata": {
        "id": "eea88a6e-0141-4296-a73b-6b2282fe0de6"
      },
      "source": [
        "## Try experimenting on your own!"
      ]
    },
    {
      "cell_type": "markdown",
      "id": "WIDmEzWKD_61",
      "metadata": {
        "id": "WIDmEzWKD_61"
      },
      "source": [
        "#### Ex 1. จงเขียน Prompt เพื่อตรวจข้อสอบต่อไปนี้ว่าถูกต้องหรือไม่\n",
        "**question**: รูปสามเหลี่ยมรูปหนึ่งมีพื้นที่ 32 ตารางเซนติเมตร มีฐานยาว 8 เซนติเมตร รูปสามเหลี่ยมรูปนี้สูงกี่เซนติเมตร<br>\n",
        "**answer** : 8  เซนติเมตร\n"
      ]
    },
    {
      "cell_type": "code",
      "execution_count": null,
      "id": "f92c1dcc-1cef-42f7-9291-fa1dfa9fcc1b",
      "metadata": {
        "id": "f92c1dcc-1cef-42f7-9291-fa1dfa9fcc1b"
      },
      "outputs": [],
      "source": [
        "question = 'รูปสามเหลี่ยมรูปหนึ่งมีพื้นที่ 32 ตารางเซนติเมตร มีฐานยาว 8 เซนติเมตร รูปสามเหลี่ยมรูปนี้สูงกี่เซนติเมตร'\n",
        "answer = '9 เซนติเมตร'"
      ]
    },
    {
      "cell_type": "code",
      "source": [],
      "metadata": {
        "id": "82jB7U9dExxH"
      },
      "id": "82jB7U9dExxH",
      "execution_count": null,
      "outputs": []
    },
    {
      "cell_type": "markdown",
      "id": "1--96ZIkFOQV",
      "metadata": {
        "id": "1--96ZIkFOQV"
      },
      "source": [
        "#### Ex 2.\n",
        "จงเขียน Prompt เพื่อสรุปข่าวต่อไปนี้สำหรับใส่ลงไปใน Facebook\n",
        "\n",
        "\"เมื่อวันที่ 22 เมษายน 2567 สถาบันคุณวุฒิวิชาชีพ นำโดย คุณวรากร ธนูสนธิ์ หัวหน้ากลุ่มงานและคณะผู้ตรวจประเมิน ได้เข้าตรวจประเมิน “ศูนย์ฝึกอบรมฐานสมรรถนะตามมาตรฐานคุณวุฒิวิชาชีพ” ที่ดำเนินงานโดยกลุ่มสาขาวิชาเทคโนโลยีการจัดการระบบสารสนเทศ คณะวิศวกรรมศาสตร์ มหาวิทยาลัยมหิดล ตามคำขอการรับรองให้เป็นองค์กรที่ทำหน้าที่ให้บริการฝึกอบรมตามข้อกำหนดของสถาบันฯ โดยในงานตรวจประเมินครั้งนี้ มี ผศ.ดร. ทวีศักดิ์ สมานชื่น หัวหน้าโครงการศูนย์ฝึกฯ ได้ให้การต้อนรับและนำเสนอรายงานต่อคณะผู้ตรวจ พร้อมกับบุคลากรที่เกี่ยวข้อง อีกทั้งมีการตรวจสถานที่ที่ใช้ในการฝึกอบรม ตรวจความพร้อมเครื่องมือ และอุปกรณ์ที่เกี่ยวข้องในการฝึกอบรม จากการตรวจประเมิน สถาบันคุณวุฒิวิชาชีพได้สรุปผลการประเมินพร้อมข้อเสนอแนะเพิ่มเติมที่ให้องค์กรที่ทำหน้าที่ให้บริการฝึกอบรม การตรวจประเมินครั้งนี้ ถือเป็นการยกระดับมาตรฐานการฝึกอบรม หลักสูตร สาขาวิชาชีพอุตสาหกรรมดิจิทัล เป็นมาตรฐานองค์ฝึกอบรมตามข้อกำหนดของสถาบันฯ\"\n",
        "\n"
      ]
    },
    {
      "cell_type": "code",
      "execution_count": null,
      "id": "722dabbd",
      "metadata": {
        "id": "722dabbd"
      },
      "outputs": [],
      "source": []
    }
  ],
  "metadata": {
    "colab": {
      "provenance": [],
      "include_colab_link": true
    },
    "kernelspec": {
      "display_name": "Python 3 (ipykernel)",
      "language": "python",
      "name": "python3"
    },
    "language_info": {
      "codemirror_mode": {
        "name": "ipython",
        "version": 3
      },
      "file_extension": ".py",
      "mimetype": "text/x-python",
      "name": "python",
      "nbconvert_exporter": "python",
      "pygments_lexer": "ipython3",
      "version": "3.10.13"
    }
  },
  "nbformat": 4,
  "nbformat_minor": 5
}