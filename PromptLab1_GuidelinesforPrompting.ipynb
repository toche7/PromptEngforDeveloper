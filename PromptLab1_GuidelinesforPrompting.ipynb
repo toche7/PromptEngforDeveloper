{
  "cells": [
    {
      "cell_type": "markdown",
      "metadata": {
        "colab_type": "text",
        "id": "view-in-github"
      },
      "source": [
        "<a href=\"https://colab.research.google.com/github/toche7/PromptEngforDeveloper/blob/main/PromptLab1_GuidelinesforPrompting.ipynb\" target=\"_parent\"><img src=\"https://colab.research.google.com/assets/colab-badge.svg\" alt=\"Open In Colab\"/></a>"
      ]
    },
    {
      "cell_type": "markdown",
      "id": "7ebe2e9d-685d-4ea3-ab7c-9589caaabff5",
      "metadata": {
        "id": "7ebe2e9d-685d-4ea3-ab7c-9589caaabff5"
      },
      "source": [
        "# Guidelines for Prompting\n",
        "ในบทนี้ เราจะได้ฝึกฝนหลักการสองประการในการใช้ prompt และเทคนิควิธีที่เกี่ยวข้องเพื่อเขียน  prompt ที่มีประสิทธิภาพสำหรับ  LLM (large language models).\n",
        "\n",
        "\n",
        "\n",
        "\n",
        "## Setup\n",
        "#### Load the API key and relevant Python libaries."
      ]
    },
    {
      "cell_type": "markdown",
      "id": "00bab499-9a50-4bd0-a622-1c914c6ccc29",
      "metadata": {
        "id": "00bab499-9a50-4bd0-a622-1c914c6ccc29"
      },
      "source": [
        "ในกรณีที่ใช้ Google Colab จำเป็นที่จะต้องติดตั้ง Library ของ Groq ก่อนตามตัวอย่างด้านล่าง และ\n",
        "ใน Course นี้ผู้เรียนจะต้องไปเอา API Key มาจากเวปไซท์ของ Groq"
      ]
    },
    {
      "cell_type": "code",
      "execution_count": null,
      "id": "zqLhVIy_gqm9",
      "metadata": {
        "colab": {
          "base_uri": "https://localhost:8080/"
        },
        "id": "zqLhVIy_gqm9",
        "outputId": "731d2274-bce3-41ac-8c71-bceab6ca2aff"
      },
      "outputs": [],
      "source": [
        "# !pip -q install python-dotenv\n",
        "!pip -q install groq"
      ]
    },
    {
      "cell_type": "code",
      "execution_count": null,
      "id": "ff356315",
      "metadata": {},
      "outputs": [],
      "source": [
        "#=========VSCode=====================================================================\n",
        "# from dotenv import find_dotenv, load_dotenv\n",
        "# _ = load_dotenv(find_dotenv())\n",
        "# import os\n",
        "# secret_key = os.environ.get(\"GROQ_API_KEY\")\n",
        "#========google.colab======================================================================\n",
        "from google.colab import userdata\n",
        "secret_key = userdata.get('GROQ_API_KEY')\n",
        "\n"
      ]
    },
    {
      "cell_type": "code",
      "execution_count": null,
      "id": "c9d394aa",
      "metadata": {},
      "outputs": [],
      "source": [
        "from groq import Groq\n",
        "\n",
        "clientGroq = Groq(\n",
        "    api_key= secret_key,\n",
        ")"
      ]
    },
    {
      "cell_type": "markdown",
      "id": "EJTazbx-5E2Z",
      "metadata": {
        "id": "EJTazbx-5E2Z"
      },
      "source": []
    },
    {
      "cell_type": "markdown",
      "id": "a3acefa8-f8f1-4ef8-932e-9bcefa142666",
      "metadata": {
        "id": "a3acefa8-f8f1-4ef8-932e-9bcefa142666"
      },
      "source": [
        "#### helper function\n",
        "ตลอดการอบรมนี้ เราจะใช้ Model llama3 ผ่านทางบริการของ Groq \n",
        "\n",
        "Function ด้านล่างจะช่วยให้เราเขียนโปรแกรมได้ง่ายขึ้น"
      ]
    },
    {
      "cell_type": "code",
      "execution_count": null,
      "id": "a7dff174",
      "metadata": {
        "id": "a7dff174",
        "tags": []
      },
      "outputs": [],
      "source": [
        "def get_completion(prompt, model= \"llama3-70b-8192\", clientGroq = clientGroq):\n",
        "    messages = [{\"role\": \"user\", \"content\": prompt}]\n",
        "    response = clientGroq.chat.completions.create(\n",
        "        model=model,\n",
        "        messages=messages,\n",
        "        temperature=0,\n",
        "        max_tokens= 4000,\n",
        "        top_p = 0.5\n",
        "    )\n",
        "    return response.choices[0].message.content"
      ]
    },
    {
      "cell_type": "markdown",
      "id": "3b62298e-2181-4e73-bb40-77e20c655231",
      "metadata": {
        "id": "3b62298e-2181-4e73-bb40-77e20c655231"
      },
      "source": [
        "## หลักการเขียน  Prompt\n",
        "- **หลักการที่ 1: เขียนให้ชัดเจนและจำเพาะเจาะจง**\n",
        "- **หลักการที่ 2: ให้เวลาในการคิด**\n",
        "\n",
        "\n"
      ]
    },
    {
      "cell_type": "markdown",
      "id": "9JaYPYbGsReF",
      "metadata": {
        "id": "9JaYPYbGsReF"
      },
      "source": [
        "## Principle 1: เขียนให้ชัดเจนและจำเพาะเจาะจง\n",
        "\n",
        "#### Tactic 1: ใช้สัญลักษณ์พิเศษในการแบ่งแยกข้อความ แต่ละส่วนให้ชัดเจน\n",
        "- ทั้งนี้จะเป็นสัญลักษณ์อะไรก็ได้เช่น ```, \"\"\", < >, `<tag> </tag>`, `:`"
      ]
    },
    {
      "cell_type": "code",
      "execution_count": null,
      "id": "87121316",
      "metadata": {
        "colab": {
          "base_uri": "https://localhost:8080/"
        },
        "id": "87121316",
        "outputId": "094cd8a0-c2b3-4b98-afc3-65a3508c44b4",
        "tags": []
      },
      "outputs": [],
      "source": [
        "text = f\"\"\"\n",
        "You should express what you want a model to do by \\\n",
        "providing instructions that are as clear and \\\n",
        "specific as you can possibly make them. \\\n",
        "This will guide the model towards the desired output, \\\n",
        "and reduce the chances of receiving irrelevant \\\n",
        "or incorrect responses. Don't confuse writing a \\\n",
        "clear prompt with writing a short prompt. \\\n",
        "In many cases, longer prompts provide more clarity \\\n",
        "and context for the model, which can lead to \\\n",
        "more detailed and relevant outputs.\n",
        "\"\"\"\n",
        "prompt = f\"\"\"\n",
        "Summarize the text delimited by triple backticks \\\n",
        "into a single sentence.\n",
        "```{text}```\n",
        "\"\"\"\n",
        "response = get_completion(prompt)\n",
        "print(response)"
      ]
    },
    {
      "cell_type": "markdown",
      "id": "f2798f3d-7618-4ac5-a6b2-3c69c537903d",
      "metadata": {
        "id": "f2798f3d-7618-4ac5-a6b2-3c69c537903d"
      },
      "source": [
        "#### Tactic 2:  กำหนดรูปแบบของ output ที่ต้องการ\n",
        "- JSON, HTML"
      ]
    },
    {
      "cell_type": "code",
      "execution_count": null,
      "id": "6b50bbbd",
      "metadata": {
        "colab": {
          "base_uri": "https://localhost:8080/"
        },
        "id": "6b50bbbd",
        "outputId": "ab2094ac-f566-4464-8b2f-762143e189ba",
        "tags": []
      },
      "outputs": [],
      "source": [
        "prompt = f\"\"\"\n",
        "Generate a list of three made-up book titles along \\\n",
        "with their authors and genres.\n",
        "Provide them in JSON  with the following keys:\n",
        "book_id, title, author, genre.\n",
        "\"\"\"\n",
        "response = get_completion(prompt)\n",
        "print(response)"
      ]
    },
    {
      "cell_type": "markdown",
      "id": "22a71c4f-b1f1-4d67-ad5a-e49fc1e3147d",
      "metadata": {
        "id": "22a71c4f-b1f1-4d67-ad5a-e49fc1e3147d"
      },
      "source": [
        "#### Tactic 3: สั่งให้ model ตรวจสอบเงื่อนไขว่าเป็นไปตามที่กำหนดหรือไม่"
      ]
    },
    {
      "cell_type": "code",
      "execution_count": null,
      "id": "f0ae612e",
      "metadata": {
        "colab": {
          "base_uri": "https://localhost:8080/"
        },
        "id": "f0ae612e",
        "outputId": "fb825fd6-be3f-4f26-c126-267624a1c204",
        "tags": []
      },
      "outputs": [],
      "source": [
        "text_1 = f\"\"\"\n",
        "Making a cup of tea is easy! First, you need to get some \\\n",
        "water boiling. While that's happening, \\\n",
        "grab a cup and put a tea bag in it. Once the water is \\\n",
        "hot enough, just pour it over the tea bag. \\\n",
        "Let it sit for a bit so the tea can steep. After a \\\n",
        "few minutes, take out the tea bag. If you \\\n",
        "like, you can add some sugar or milk to taste. \\\n",
        "And that's it! You've got yourself a delicious \\\n",
        "cup of tea to enjoy.\n",
        "\"\"\"\n",
        "prompt = f\"\"\"\n",
        "You will be provided with text delimited by triple quotes.\n",
        "If it contains a sequence of instructions, \\\n",
        "re-write those instructions in the following format:\n",
        "\n",
        "Step 1 - ...\n",
        "Step 2 - …\n",
        "…\n",
        "Step N - …\n",
        "\n",
        "If the text does not contain a sequence of instructions, \\\n",
        "then simply write \\\"No steps provided.\\\"\n",
        "\n",
        "\\\"\\\"\\\"{text_1}\\\"\\\"\\\"\n",
        "\"\"\"\n",
        "response = get_completion(prompt)\n",
        "print(\"Completion for Text 1:\")\n",
        "print(response)"
      ]
    },
    {
      "cell_type": "code",
      "execution_count": null,
      "id": "76b6cc59",
      "metadata": {
        "colab": {
          "base_uri": "https://localhost:8080/"
        },
        "id": "76b6cc59",
        "outputId": "bc43a072-39d6-4fe0-bb42-775565651fb8",
        "tags": []
      },
      "outputs": [],
      "source": [
        "text_2 = f\"\"\"\n",
        "The sun is shining brightly today, and the birds are \\\n",
        "singing. It's a beautiful day to go for a \\\n",
        "walk in the park. The flowers are blooming, and the \\\n",
        "trees are swaying gently in the breeze. People \\\n",
        "are out and about, enjoying the lovely weather. \\\n",
        "Some are having picnics, while others are playing \\\n",
        "games or simply relaxing on the grass. It's a \\\n",
        "perfect day to spend time outdoors and appreciate the \\\n",
        "beauty of nature.\n",
        "\"\"\"\n",
        "prompt = f\"\"\"\n",
        "You will be provided with text delimited by triple quotes.\n",
        "If it contains a sequence of instructions, \\\n",
        "re-write those instructions in the following format:\n",
        "\n",
        "Step 1 - ...\n",
        "Step 2 - …\n",
        "…\n",
        "Step N - …\n",
        "\n",
        "If the text does not contain a sequence of instructions, \\\n",
        "then simply write \\\"No steps provided.\\\"\n",
        "\n",
        "\\\"\\\"\\\"{text_2}\\\"\\\"\\\"\n",
        "\"\"\"\n",
        "response = get_completion(prompt)\n",
        "print(\"Completion for Text 2:\")\n",
        "print(response)"
      ]
    },
    {
      "cell_type": "markdown",
      "id": "3c5866b8-d8c7-4e19-93db-401315f64954",
      "metadata": {
        "id": "3c5866b8-d8c7-4e19-93db-401315f64954"
      },
      "source": [
        "#### Tactic 4: \"Few-shot\" prompting หมายถึงการทำให้ดูเป็นตัวอย่างที่เราต้องการ และให้ทำตาม"
      ]
    },
    {
      "cell_type": "code",
      "execution_count": null,
      "id": "82ce1540",
      "metadata": {
        "colab": {
          "base_uri": "https://localhost:8080/"
        },
        "id": "82ce1540",
        "outputId": "39b9659c-b958-4269-f637-608d8bc01458",
        "tags": []
      },
      "outputs": [],
      "source": [
        "prompt = f\"\"\"\n",
        "Your task is to answer in a consistent style.\n",
        "\n",
        "<child>: Teach me about patience.\n",
        "\n",
        "<grandparent>: The river that carves the deepest \\\n",
        "valley flows from a modest spring; the \\\n",
        "grandest symphony originates from a single note; \\\n",
        "the most intricate tapestry begins with a solitary thread.\n",
        "\n",
        "<child>: Teach me about resilience.\n",
        "\"\"\"\n",
        "response = get_completion(prompt)\n",
        "print(response)"
      ]
    },
    {
      "cell_type": "markdown",
      "id": "ece7a8ee-1a2d-415d-8c10-500ecff24b10",
      "metadata": {
        "id": "ece7a8ee-1a2d-415d-8c10-500ecff24b10"
      },
      "source": [
        "## Principle 2: \"ให้เวลาคิด\"\n",
        "\n",
        "#### Tactic 1: กำหนดขั้นตอนในการทำงานใดงานหนึ่งให้ชัดเจน อย่าคิดลัดนะ  "
      ]
    },
    {
      "cell_type": "code",
      "execution_count": null,
      "id": "5e7d6860",
      "metadata": {
        "colab": {
          "base_uri": "https://localhost:8080/"
        },
        "id": "5e7d6860",
        "outputId": "1bf646c3-b84e-4f95-e99c-891df4f6c2fe",
        "tags": []
      },
      "outputs": [],
      "source": [
        "text = f\"\"\"\n",
        "In a charming village, siblings Jack and Jill set out on \\\n",
        "a quest to fetch water from a hilltop \\\n",
        "well. As they climbed, singing joyfully, misfortune \\\n",
        "struck—Jack tripped on a stone and tumbled \\\n",
        "down the hill, with Jill following suit. \\\n",
        "Though slightly battered, the pair returned home to \\\n",
        "comforting embraces. Despite the mishap, \\\n",
        "their adventurous spirits remained undimmed, and they \\\n",
        "continued exploring with delight.\n",
        "\"\"\"\n",
        "# example 1\n",
        "prompt_1 = f\"\"\"\n",
        "Perform the following actions:\n",
        "1 - Summarize the following text delimited by triple \\\n",
        "backticks with 1 sentence.\n",
        "2 - Translate the summary into Thai.\n",
        "3 - List each name in the Thai summary.\n",
        "4 - Output a json object that contains the following \\\n",
        "keys: thai_summary, num_names.\n",
        "\n",
        "Separate your answers with line breaks.\n",
        "\n",
        "Text:\n",
        "```{text}```\n",
        "\"\"\"\n",
        "response = get_completion(prompt_1)\n",
        "print(\"Completion for prompt 1:\")\n",
        "print(response)"
      ]
    },
    {
      "cell_type": "markdown",
      "id": "d0bb1dcf-95f5-4ee1-8c25-8b2abd5f0f0d",
      "metadata": {
        "id": "d0bb1dcf-95f5-4ee1-8c25-8b2abd5f0f0d"
      },
      "source": [
        "#### สั่งให้แสดงในรูปแบบที่ต้องการได้"
      ]
    },
    {
      "cell_type": "code",
      "execution_count": null,
      "id": "3e4222cc",
      "metadata": {
        "colab": {
          "base_uri": "https://localhost:8080/"
        },
        "id": "3e4222cc",
        "outputId": "3c432250-93e4-4347-f751-725bab21a1d1",
        "tags": []
      },
      "outputs": [],
      "source": [
        "prompt_2 = f\"\"\"\n",
        "Your task is to perform the following actions:\n",
        "1 - Summarize the following text delimited by\n",
        "  <> with 1 sentence.\n",
        "2 - Translate the summary into Thai.\n",
        "3 - List each name in the Thai summary.\n",
        "4 - Output a json object that contains the\n",
        "  following keys: thai_summary, num_names.\n",
        "\n",
        "Use the following format:\n",
        "Text: <text to summarize>\n",
        "Summary: <summary>\n",
        "Translation: <summary translation>\n",
        "Names: <list of names in summary>\n",
        "Output JSON: <json with summary and num_names>\n",
        "\n",
        "Text: <{text}>\n",
        "\"\"\"\n",
        "response = get_completion(prompt_2)\n",
        "print(\"\\nCompletion for prompt 2:\")\n",
        "print(response)"
      ]
    },
    {
      "cell_type": "markdown",
      "id": "fec80fdb-92db-48f6-8f1d-b03c26385bad",
      "metadata": {
        "id": "fec80fdb-92db-48f6-8f1d-b03c26385bad"
      },
      "source": [
        "#### Tactic 2:  สั่งให้แบบจำลองแสดงวิธีการคิดหรือทำงานออกมาก่อนที่จะสรุปผล"
      ]
    },
    {
      "cell_type": "code",
      "execution_count": null,
      "id": "ff5cc985",
      "metadata": {
        "colab": {
          "base_uri": "https://localhost:8080/"
        },
        "id": "ff5cc985",
        "outputId": "d9010431-55e2-48fc-dcd9-54180da14f01",
        "tags": []
      },
      "outputs": [],
      "source": [
        "prompt = f\"\"\"\n",
        "Determine if the student's solution is correct or not.\n",
        "\n",
        "Question:\n",
        "I'm building a solar power installation and I need \\\n",
        " help working out the financials.\n",
        "- Land costs $100 / square foot\n",
        "- I can buy solar panels for $250 / square foot\n",
        "- I negotiated a contract for maintenance that will cost \\\n",
        "me a flat $100k per year, and an additional $10 / square \\\n",
        "foot\n",
        "What is the total cost for the first year of operations\n",
        "as a function of the number of square feet.\n",
        "\n",
        "Student's Solution:\n",
        "Let x be the size of the installation in square feet.\n",
        "Costs:\n",
        "1. Land cost: 100x\n",
        "2. Solar panel cost: 250x\n",
        "3. Maintenance cost: 100,000 + 100x\n",
        "Total cost: 100x + 250x + 100,000 + 100x = 450x + 100,000\n",
        "\"\"\"\n",
        "response = get_completion(prompt)\n",
        "print(response)"
      ]
    },
    {
      "cell_type": "markdown",
      "id": "f322ebd9-0f8a-43aa-97fe-5eac70cdcc6a",
      "metadata": {
        "id": "f322ebd9-0f8a-43aa-97fe-5eac70cdcc6a"
      },
      "source": [
        "- เราจะพบว่าคำตอบที่ได้จะยังไม่ถูกต้อง\n",
        "- เราสามารถแก้ไขได้โดยการสั้งให้ model ดำเนินการเป็นขั้นตอนก่อนที่จะตอบคำถามนั้น"
      ]
    },
    {
      "cell_type": "code",
      "execution_count": null,
      "id": "703f7003",
      "metadata": {
        "colab": {
          "base_uri": "https://localhost:8080/"
        },
        "id": "703f7003",
        "outputId": "0a91955a-bad3-4509-ce29-9f0b83cae6dc",
        "tags": []
      },
      "outputs": [],
      "source": [
        "prompt = f\"\"\"\n",
        "Your task is to determine if the student's solution \\\n",
        "is correct or not.\n",
        "To solve the problem do the following:\n",
        "- First, work out your own solution to the problem including the final total.\n",
        "- Then compare your solution to the student's solution \\\n",
        "and evaluate if the student's solution is correct or not.\n",
        "Don't decide if the student's solution is correct until\n",
        "you have done the problem yourself.\n",
        "\n",
        "Use the following format:\n",
        "Question:\n",
        "```\n",
        "question here\n",
        "```\n",
        "Student's solution:\n",
        "```\n",
        "student's solution here\n",
        "```\n",
        "Actual solution:\n",
        "```\n",
        "steps to work out the solution and your solution here\n",
        "```\n",
        "Is the student's solution the same as actual solution \\\n",
        "just calculated:\n",
        "```\n",
        "yes or no\n",
        "```\n",
        "Student grade:\n",
        "```\n",
        "correct or incorrect\n",
        "```\n",
        "\n",
        "Question:\n",
        "```\n",
        "I'm building a solar power installation and I need help \\\n",
        "working out the financials.\n",
        "- Land costs $100 / square foot\n",
        "- I can buy solar panels for $250 / square foot\n",
        "- I negotiated a contract for maintenance that will cost \\\n",
        "me a flat $100k per year, and an additional $10 / square \\\n",
        "foot\n",
        "What is the total cost for the first year of operations \\\n",
        "as a function of the number of square feet.\n",
        "```\n",
        "Student's solution:\n",
        "```\n",
        "Let x be the size of the installation in square feet.\n",
        "Costs:\n",
        "1. Land cost: 100x\n",
        "2. Solar panel cost: 250x\n",
        "3. Maintenance cost: 100,000 + 100x\n",
        "Total cost: 100x + 250x + 100,000 + 100x = 450x + 100,000\n",
        "```\n",
        "Actual solution:\n",
        "```\n",
        "....\n",
        "```\n",
        "\n",
        "Use the following format:\n",
        "Question:\n",
        "```\n",
        "question here\n",
        "```\n",
        "Student's solution:\n",
        "```\n",
        "student's solution here\n",
        "```\n",
        "Actual solution:\n",
        "```\n",
        "steps to work out the solution and your solution here\n",
        "```\n",
        "Is the student's solution the same as actual solution \\\n",
        "just calculated:\n",
        "```\n",
        "yes or no\n",
        "```\n",
        "Student grade:\n",
        "```\n",
        "correct or incorrect\n",
        "```\n",
        "\"\"\"\n",
        "response = get_completion(prompt)\n",
        "print(response)"
      ]
    },
    {
      "cell_type": "markdown",
      "id": "8a207eab-a1b1-47a5-b913-fe38086123d0",
      "metadata": {
        "id": "8a207eab-a1b1-47a5-b913-fe38086123d0"
      },
      "source": [
        "## Model Limitations: Hallucinations\n",
        "- Let try about ITM."
      ]
    },
    {
      "cell_type": "code",
      "execution_count": null,
      "id": "81c80919",
      "metadata": {
        "colab": {
          "base_uri": "https://localhost:8080/"
        },
        "id": "81c80919",
        "outputId": "ea39e745-f31a-4f24-e2a6-7ee07f5338b4",
        "tags": []
      },
      "outputs": [],
      "source": [
        "prompt = f\"\"\"\n",
        "Tell me about  ITM, Faculy of Engineering, Mahidol University\n",
        "\"\"\"\n",
        "response = get_completion(prompt)\n",
        "print(response)"
      ]
    },
    {
      "cell_type": "markdown",
      "id": "eea88a6e-0141-4296-a73b-6b2282fe0de6",
      "metadata": {
        "id": "eea88a6e-0141-4296-a73b-6b2282fe0de6"
      },
      "source": [
        "## Try experimenting on your own!"
      ]
    },
    {
      "cell_type": "markdown",
      "id": "WIDmEzWKD_61",
      "metadata": {
        "id": "WIDmEzWKD_61"
      },
      "source": [
        "#### Ex 1. จงเขียน Prompt เพื่อตรวจข้อสอบต่อไปนี้ว่าถูกต้องหรือไม่\n",
        "**question**: รูปสามเหลี่ยมรูปหนึ่งมีพื้นที่ 32 ตารางเซนติเมตร มีฐานยาว 8 เซนติเมตร รูปสามเหลี่ยมรูปนี้สูงกี่เซนติเมตร<br>\n",
        "**answer** : 8  เซนติเมตร\n"
      ]
    },
    {
      "cell_type": "code",
      "execution_count": null,
      "id": "f92c1dcc-1cef-42f7-9291-fa1dfa9fcc1b",
      "metadata": {
        "id": "f92c1dcc-1cef-42f7-9291-fa1dfa9fcc1b"
      },
      "outputs": [],
      "source": [
        "question = 'รูปสามเหลี่ยมรูปหนึ่งมีพื้นที่ 32 ตารางเซนติเมตร มีฐานยาว 8 เซนติเมตร รูปสามเหลี่ยมรูปนี้สูงกี่เซนติเมตร'\n",
        "answer = '8 เซนติเมตร'"
      ]
    },
    {
      "cell_type": "code",
      "execution_count": null,
      "id": "da273446",
      "metadata": {},
      "outputs": [],
      "source": []
    },
    {
      "cell_type": "markdown",
      "id": "1--96ZIkFOQV",
      "metadata": {
        "id": "1--96ZIkFOQV"
      },
      "source": [
        "#### Ex 2.\n",
        "จงเขียน Prompt เพื่อสรุปข่าวต่อไปนี้สำหรับใส่ลงไปใน Facebook\n",
        "\n",
        "\"เมื่อวันที่ 22 เมษายน 2567 สถาบันคุณวุฒิวิชาชีพ นำโดย คุณวรากร ธนูสนธิ์ หัวหน้ากลุ่มงานและคณะผู้ตรวจประเมิน ได้เข้าตรวจประเมิน “ศูนย์ฝึกอบรมฐานสมรรถนะตามมาตรฐานคุณวุฒิวิชาชีพ” ที่ดำเนินงานโดยกลุ่มสาขาวิชาเทคโนโลยีการจัดการระบบสารสนเทศ คณะวิศวกรรมศาสตร์ มหาวิทยาลัยมหิดล ตามคำขอการรับรองให้เป็นองค์กรที่ทำหน้าที่ให้บริการฝึกอบรมตามข้อกำหนดของสถาบันฯ โดยในงานตรวจประเมินครั้งนี้ มี ผศ.ดร. ทวีศักดิ์ สมานชื่น หัวหน้าโครงการศูนย์ฝึกฯ ได้ให้การต้อนรับและนำเสนอรายงานต่อคณะผู้ตรวจ พร้อมกับบุคลากรที่เกี่ยวข้อง อีกทั้งมีการตรวจสถานที่ที่ใช้ในการฝึกอบรม ตรวจความพร้อมเครื่องมือ และอุปกรณ์ที่เกี่ยวข้องในการฝึกอบรม จากการตรวจประเมิน สถาบันคุณวุฒิวิชาชีพได้สรุปผลการประเมินพร้อมข้อเสนอแนะเพิ่มเติมที่ให้องค์กรที่ทำหน้าที่ให้บริการฝึกอบรม การตรวจประเมินครั้งนี้ ถือเป็นการยกระดับมาตรฐานการฝึกอบรม หลักสูตร สาขาวิชาชีพอุตสาหกรรมดิจิทัล เป็นมาตรฐานองค์ฝึกอบรมตามข้อกำหนดของสถาบันฯ\"\n",
        "\n"
      ]
    },
    {
      "cell_type": "code",
      "execution_count": null,
      "id": "722dabbd",
      "metadata": {},
      "outputs": [],
      "source": []
    }
  ],
  "metadata": {
    "colab": {
      "include_colab_link": true,
      "provenance": []
    },
    "kernelspec": {
      "display_name": "Python 3 (ipykernel)",
      "language": "python",
      "name": "python3"
    },
    "language_info": {
      "codemirror_mode": {
        "name": "ipython",
        "version": 3
      },
      "file_extension": ".py",
      "mimetype": "text/x-python",
      "name": "python",
      "nbconvert_exporter": "python",
      "pygments_lexer": "ipython3",
      "version": "3.10.13"
    }
  },
  "nbformat": 4,
  "nbformat_minor": 5
}
