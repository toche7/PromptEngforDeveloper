{
 "cells": [
  {
   "cell_type": "markdown",
   "metadata": {
    "colab_type": "text",
    "id": "view-in-github"
   },
   "source": [
    "<a href=\"https://colab.research.google.com/github/toche7/PromptEngforDeveloper/blob/main/PromptLab2_IterativePromptDev.ipynb\" target=\"_parent\"><img src=\"https://colab.research.google.com/assets/colab-badge.svg\" alt=\"Open In Colab\"/></a>"
   ]
  },
  {
   "cell_type": "markdown",
   "metadata": {
    "id": "ZPcwUmbYEMCG"
   },
   "source": [
    "# Iterative Prompt Development\n",
    "\n",
    "ในบทนี้ เราได้ทำการวิเคราะห์และทบทวนปรับปรุง prompt เพื่อสร้างเอกสารทางการตลาดจากเอกสารข้อมูลผลิตภัณฑ์"
   ]
  },
  {
   "cell_type": "markdown",
   "metadata": {
    "id": "hfWDBR7OaM9z"
   },
   "source": [
    "## Setup"
   ]
  },
  {
   "cell_type": "code",
   "execution_count": null,
   "metadata": {
    "id": "rEQ_rjQKeF7B"
   },
   "outputs": [],
   "source": [
    "# !pip -q install python-dotenv\n",
    "!pip -q install groq"
   ]
  },
  {
   "cell_type": "code",
   "execution_count": null,
   "metadata": {
    "id": "ZvM3KkoOeJJ9"
   },
   "outputs": [],
   "source": [
    "#========= VScode ================== - for OpenAI\n",
    "# need .env file with OPENAI_API_KEY\n",
    "#\n",
    "# from openai import OpenAI\n",
    "# from dotenv import load_dotenv\n",
    "# load_dotenv()\n",
    "# client = OpenAI()\n",
    "\n",
    "#========= VSCode ================== - for Groq\n",
    "# import os\n",
    "# from dotenv import load_dotenv\n",
    "# load_dotenv()\n",
    "# secret_key = os.environ.get(\"GROQ_API_KEY\")\n",
    "\n",
    "\n",
    "\n",
    "#========= google.colab ==================\n",
    "from google.colab import userdata\n",
    "secret_key = userdata.get('GROQ_API_KEY')\n",
    "\n",
    "#===== create Groq object=================\n",
    "from groq import Groq\n",
    "clientGroq = Groq(\n",
    "    api_key= secret_key,\n",
    ")\n"
   ]
  },
  {
   "cell_type": "code",
   "execution_count": null,
   "metadata": {
    "id": "JvICrSG-eLhF"
   },
   "outputs": [],
   "source": [
    "def get_completion(prompt, model= \"llama3-70b-8192\", clientGroq = clientGroq):\n",
    "    messages = [{\"role\": \"user\", \"content\": prompt}]\n",
    "    response = clientGroq.chat.completions.create(\n",
    "        model=model,\n",
    "        messages=messages,\n",
    "        temperature=0,\n",
    "        max_tokens= 4000,\n",
    "        top_p = 0.5\n",
    "    )\n",
    "    return response.choices[0].message.content"
   ]
  },
  {
   "cell_type": "markdown",
   "metadata": {
    "id": "6sWdBq3YfGsM"
   },
   "source": [
    "## Generate a marketing product description from a product fact sheet¶"
   ]
  },
  {
   "cell_type": "code",
   "execution_count": null,
   "metadata": {
    "id": "T-VYxsNSadkz"
   },
   "outputs": [],
   "source": [
    "fact_sheet_chair = \"\"\"\n",
    "ภาพรวม\n",
    "- เป็นส่วนหนึ่งของเฟอร์นิเจอร์ออฟฟิศที่ได้รับแรงบันดาลใจจากยุคสมัยกลาง\n",
    "รวมถึงตู้เก็บเอกสาร, โต๊ะทำงาน, ตู้หนังสือ, โต๊ะประชุม และอื่นๆ\n",
    "- มีตัวเลือกสีของชั้นและฐานหลายแบบ\n",
    "- มีให้เลือกทั้งแบบที่มีแผ่นหุ้มหลังและแผ่นหุ้มหน้าแบบพลาสติก (SWC-100)\n",
    "หรือแบบที่มีแผ่นบุหน้าทั้งหมด (SWC-110) ใน 10 แบบเป็นผ้า และ 6 แบบเป็นหนัง\n",
    "- ตัวเลือกสีฐานคือ สเตนเลสสตีล, ดำด้าน, ขาวเงา หรือ โครมเมี่ยม\n",
    "- เก้าอี้มีให้เลือกทั้งแบบมีและไม่มีแขน\n",
    "- เหมาะสำหรับทั้งบ้านหรือที่ทำงาน\n",
    "- ได้รับการรับรองสำหรับการใช้งาน\n",
    "\n",
    "โครงสร้าง\n",
    "- ฐานอลูมิเนียม 5 ล้อที่เคลือบด้วยพลาสติก\n",
    "- ระบบปรับระดับเก้าอี้แบบลมสำหรับการยกและลดระดับได้ง่าย\n",
    "\n",
    "มิติ\n",
    "- ความกว้าง 53 ซม. | 20.87 นิ้ว\n",
    "- ความลึก 51 ซม. | 20.08 นิ้ว\n",
    "- ความสูง 80 ซม. | 31.50 นิ้ว\n",
    "- ความสูงของที่นั่ง 44 ซม. | 17.32 นิ้ว\n",
    "- ความลึกของที่นั่ง 41 ซม. | 16.14 นิ้ว\n",
    "\n",
    "ตัวเลือก\n",
    "- ล้อเลื่อนแบบแข็งหรือแบบอ่อน\n",
    "- ความหนาแน่นโฟมที่นั่งมีสองตัวเลือก:\n",
    "  แบบความหนาแน่นกลาง (1.8 ปอนด์ต่อลูกบาศก์ฟุต) หรือ แบบความหนาแน่นสูง (2.8 ปอนด์ต่อลูกบาศก์ฟุต)\n",
    "- เก้าอี้แบบไม่มีที่พักแขน หรือ เก้าอี้แบบมีที่พักแขน\n",
    "\n",
    "วัสดุ\n",
    "  โครงขึ้นรูป\n",
    "  - อลูมิเนียมหล่อที่เคลือบด้วยไนลอนชนิด PA6/PA66\n",
    "  - ความหนาของโครงวัสดุ: 10 มม.\n",
    "  ที่นั่ง\n",
    "  - โฟมชนิด HD36\n",
    "\n",
    "ประเทศผู้ผลิต\n",
    "- อิตาลี\n",
    "\"\"\""
   ]
  },
  {
   "cell_type": "code",
   "execution_count": null,
   "metadata": {
    "colab": {
     "base_uri": "https://localhost:8080/"
    },
    "id": "LZ4-TTtOeh2X",
    "outputId": "992da2c0-038c-4aff-feee-5061cff91356"
   },
   "outputs": [],
   "source": [
    "# For english, run this script\n",
    "#\n",
    "prompt = f\"\"\"\n",
    "Your task is to help a marketing team create a\n",
    "description for a retail website of a product based\n",
    "on a technical fact sheet.\n",
    "\n",
    "Write a product description  based on the information\n",
    "provided in the technical specifications delimited by\n",
    "triple backticks.\n",
    "\n",
    "Technical specifications: ```{fact_sheet_chair}```\n",
    "\"\"\"\n",
    "\n",
    "response = get_completion(prompt)\n",
    "print(response)"
   ]
  },
  {
   "cell_type": "markdown",
   "metadata": {
    "id": "hf6o_rPxfRGz"
   },
   "source": [
    "### Issue 1: The text is too long"
   ]
  },
  {
   "cell_type": "code",
   "execution_count": null,
   "metadata": {
    "colab": {
     "base_uri": "https://localhost:8080/"
    },
    "id": "Oo-m8h4QTJWc",
    "outputId": "160b2cd2-4dfe-45da-82fe-1d6a43970707"
   },
   "outputs": [],
   "source": [
    "prompt = f\"\"\"\n",
    "Your task is to help a marketing team create a\n",
    "description for a retail website of a product based\n",
    "on a technical fact sheet.\n",
    "\n",
    "Write a product description based on the information\n",
    "provided in the technical specifications delimited by\n",
    "triple backticks.\n",
    "\n",
    "Use at most 50 words.\n",
    "\n",
    "Technical specifications: ```{fact_sheet_chair}```\n",
    "\"\"\"\n",
    "\n",
    "response = get_completion(prompt)\n",
    "print(response)"
   ]
  },
  {
   "cell_type": "markdown",
   "metadata": {
    "id": "eJA1ECWSYOaV"
   },
   "source": [
    "**Check The Word Length**"
   ]
  },
  {
   "cell_type": "code",
   "execution_count": null,
   "metadata": {
    "colab": {
     "base_uri": "https://localhost:8080/"
    },
    "id": "yG21IMDMYLv_",
    "outputId": "087812dd-ee0b-4ba7-a006-74c1c0ea21d5"
   },
   "outputs": [],
   "source": [
    "len(response.split())"
   ]
  },
  {
   "cell_type": "markdown",
   "metadata": {
    "id": "YcYubDSHe_Ao"
   },
   "source": [
    "### Issue 2. Text focuses on the wrong details"
   ]
  },
  {
   "cell_type": "code",
   "execution_count": null,
   "metadata": {
    "colab": {
     "base_uri": "https://localhost:8080/"
    },
    "id": "MGv8M5XRaSQ-",
    "outputId": "58e384d3-e06d-4e78-de24-a19a0e819863"
   },
   "outputs": [],
   "source": [
    "prompt = f\"\"\"\n",
    "Your task is to help a marketing team create a\n",
    "description for a retail website of a product based\n",
    "on a technical fact sheet.\n",
    "\n",
    "Write a product description based on the information\n",
    "provided in the technical specifications delimited by\n",
    "triple backticks.\n",
    "\n",
    "The description is intended for furniture retailers,\n",
    "so should be technical in nature and focus on the\n",
    "materials the product is constructed from.\n",
    "\n",
    "Use at most 50 words.\n",
    "\n",
    "Technical specifications: ```{fact_sheet_chair}```\n",
    "\"\"\"\n",
    "\n",
    "response = get_completion(prompt)\n",
    "print(response)"
   ]
  },
  {
   "cell_type": "markdown",
   "metadata": {
    "id": "KP4_rgA5fY7n"
   },
   "source": [
    "### Issue 3. Description needs a table of dimensions"
   ]
  },
  {
   "cell_type": "code",
   "execution_count": null,
   "metadata": {
    "colab": {
     "base_uri": "https://localhost:8080/"
    },
    "id": "V6p3dRcahM4M",
    "outputId": "498205ec-9488-4cf6-e706-df3eb1d5b2ba"
   },
   "outputs": [],
   "source": [
    "prompt = f\"\"\"\n",
    "Your task is to help a marketing team create a\n",
    "description for a retail website of a product based\n",
    "on a technical fact sheet.\n",
    "\n",
    "Write a product description based on the information\n",
    "provided in the technical specifications delimited by\n",
    "triple backticks.\n",
    "\n",
    "The description is intended for furniture retailers,\n",
    "so should be technical in nature and focus on the\n",
    "materials the product is constructed from.\n",
    "\n",
    "At the end of the description, include every 7-character\n",
    "Product ID in the technical specification.\n",
    "\n",
    "After the description, include a table that gives the\n",
    "product's dimensions. The table should have two columns.\n",
    "In the first column include the name of the dimension.\n",
    "In the second column include the measurements in inches only.\n",
    "\n",
    "Give the table the title 'Product Dimensions'.\n",
    "\n",
    "Technical specifications: ```{fact_sheet_chair}```\n",
    "\"\"\"\n",
    "\n",
    "response = get_completion(prompt)\n",
    "print(response)"
   ]
  },
  {
   "cell_type": "markdown",
   "metadata": {
    "id": "isnUjtl5Mm8D"
   },
   "source": [
    "### Finally format as HTML for website display"
   ]
  },
  {
   "cell_type": "code",
   "execution_count": null,
   "metadata": {
    "colab": {
     "base_uri": "https://localhost:8080/"
    },
    "id": "msunwL3mmoGw",
    "outputId": "631eb8ea-c08a-470d-91db-79b29e0fadd7"
   },
   "outputs": [],
   "source": [
    "prompt = f\"\"\"\n",
    "Your task is to help a marketing team create a\n",
    "description for a retail website of a product based\n",
    "on a technical fact sheet.\n",
    "\n",
    "Write a product description based on the information\n",
    "provided in the technical specifications delimited by\n",
    "triple backticks.\n",
    "\n",
    "The description is intended for furniture retailers,\n",
    "so should be technical in nature and focus on the\n",
    "materials the product is constructed from.\n",
    "\n",
    "At the end of the description, include every 7-character\n",
    "Product ID in the technical specification.\n",
    "\n",
    "After the description, include a table that gives the\n",
    "product's dimensions. The table should have two columns.\n",
    "In the first column include the name of the dimension.\n",
    "In the second column include the measurements in inches only.\n",
    "\n",
    "Give the table the title 'Product Dimensions'.\n",
    "\n",
    "Format everything as HTML that can be used in a website.\n",
    "Place the description in a <div> element.\n",
    "\n",
    "Technical specifications: ```{fact_sheet_chair}```\n",
    "\"\"\"\n",
    "\n",
    "response = get_completion(prompt)\n",
    "print(response)"
   ]
  },
  {
   "cell_type": "code",
   "execution_count": null,
   "metadata": {
    "id": "jKCHgG_Ym_UZ"
   },
   "outputs": [],
   "source": [
    "from IPython.display import display, HTML"
   ]
  },
  {
   "cell_type": "code",
   "execution_count": null,
   "metadata": {
    "colab": {
     "base_uri": "https://localhost:8080/",
     "height": 269
    },
    "id": "kXHqZn7unIHd",
    "outputId": "adb4b6de-bf35-461d-f831-96f0589f5781"
   },
   "outputs": [],
   "source": [
    "display(HTML(response))"
   ]
  },
  {
   "cell_type": "code",
   "execution_count": null,
   "metadata": {
    "id": "19FpNmEgAjVu"
   },
   "outputs": [],
   "source": []
  }
 ],
 "metadata": {
  "colab": {
   "include_colab_link": true,
   "provenance": []
  },
  "kernelspec": {
   "display_name": "Python 3",
   "name": "python3"
  },
  "language_info": {
   "codemirror_mode": {
    "name": "ipython",
    "version": 3
   },
   "file_extension": ".py",
   "mimetype": "text/x-python",
   "name": "python",
   "nbconvert_exporter": "python",
   "pygments_lexer": "ipython3",
   "version": "3.10.13"
  }
 },
 "nbformat": 4,
 "nbformat_minor": 0
}
