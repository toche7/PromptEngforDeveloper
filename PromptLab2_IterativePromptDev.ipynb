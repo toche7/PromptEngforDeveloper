{
  "cells": [
    {
      "cell_type": "markdown",
      "metadata": {
        "id": "view-in-github",
        "colab_type": "text"
      },
      "source": [
        "<a href=\"https://colab.research.google.com/github/toche7/PromptEngforDeveloper/blob/main/PromptLab2_IterativePromptDev.ipynb\" target=\"_parent\"><img src=\"https://colab.research.google.com/assets/colab-badge.svg\" alt=\"Open In Colab\"/></a>"
      ]
    },
    {
      "cell_type": "markdown",
      "metadata": {
        "id": "ZPcwUmbYEMCG"
      },
      "source": [
        "# Iterative Prompt Development\n",
        "\n",
        "ในบทนี้ เราได้ทำการวิเคราะห์และทบทวนปรับปรุง prompt เพื่อสร้างเอกสารทางการตลาดจากเอกสารข้อมูลผลิตภัณฑ์"
      ]
    },
    {
      "cell_type": "markdown",
      "source": [
        "## Setup"
      ],
      "metadata": {
        "id": "hfWDBR7OaM9z"
      }
    },
    {
      "cell_type": "code",
      "execution_count": null,
      "metadata": {
        "id": "rEQ_rjQKeF7B"
      },
      "outputs": [],
      "source": [
        "# !pip -q install python-dotenv\n",
        "!pip -q install groq"
      ]
    },
    {
      "cell_type": "code",
      "execution_count": null,
      "metadata": {
        "id": "ZvM3KkoOeJJ9"
      },
      "outputs": [],
      "source": [
        "#========= VScode ================== - for OpenAI\n",
        "# need .env file with OPENAI_API_KEY\n",
        "#\n",
        "# from openai import OpenAI\n",
        "# from dotenv import load_dotenv\n",
        "# load_dotenv()\n",
        "# client = OpenAI()\n",
        "\n",
        "#========= VSCode ================== - for Groq\n",
        "# import os\n",
        "# from dotenv import load_dotenv\n",
        "# load_dotenv()\n",
        "# secret_key = os.environ.get(\"GROQ_API_KEY\")\n",
        "\n",
        "\n",
        "\n",
        "#========= google.colab ==================\n",
        "from google.colab import userdata\n",
        "secret_key = userdata.get('GROQ_API_KEY')\n",
        "\n",
        "#===== create Groq object=================\n",
        "from groq import Groq\n",
        "clientGroq = Groq(\n",
        "    api_key= secret_key,\n",
        ")\n"
      ]
    },
    {
      "cell_type": "code",
      "execution_count": null,
      "metadata": {
        "id": "JvICrSG-eLhF"
      },
      "outputs": [],
      "source": [
        "def get_completion(prompt, model= \"llama3-70b-8192\", clientGroq = clientGroq):\n",
        "    messages = [{\"role\": \"user\", \"content\": prompt}]\n",
        "    response = clientGroq.chat.completions.create(\n",
        "        model=model,\n",
        "        messages=messages,\n",
        "        temperature=0,\n",
        "        max_tokens= 4000,\n",
        "        top_p = 0.5\n",
        "    )\n",
        "    return response.choices[0].message.content"
      ]
    },
    {
      "cell_type": "markdown",
      "metadata": {
        "id": "6sWdBq3YfGsM"
      },
      "source": [
        "## Generate a marketing product description from a product fact sheet¶"
      ]
    },
    {
      "cell_type": "code",
      "source": [
        "fact_sheet_chair = \"\"\"\n",
        "ภาพรวม\n",
        "- เป็นส่วนหนึ่งของเฟอร์นิเจอร์ออฟฟิศที่ได้รับแรงบันดาลใจจากยุคสมัยกลาง\n",
        "รวมถึงตู้เก็บเอกสาร, โต๊ะทำงาน, ตู้หนังสือ, โต๊ะประชุม และอื่นๆ\n",
        "- มีตัวเลือกสีของชั้นและฐานหลายแบบ\n",
        "- มีให้เลือกทั้งแบบที่มีแผ่นหุ้มหลังและแผ่นหุ้มหน้าแบบพลาสติก (SWC-100)\n",
        "หรือแบบที่มีแผ่นบุหน้าทั้งหมด (SWC-110) ใน 10 แบบเป็นผ้า และ 6 แบบเป็นหนัง\n",
        "- ตัวเลือกสีฐานคือ สเตนเลสสตีล, ดำด้าน, ขาวเงา หรือ โครมเมี่ยม\n",
        "- เก้าอี้มีให้เลือกทั้งแบบมีและไม่มีแขน\n",
        "- เหมาะสำหรับทั้งบ้านหรือที่ทำงาน\n",
        "- ได้รับการรับรองสำหรับการใช้งาน\n",
        "\n",
        "โครงสร้าง\n",
        "- ฐานอลูมิเนียม 5 ล้อที่เคลือบด้วยพลาสติก\n",
        "- ระบบปรับระดับเก้าอี้แบบลมสำหรับการยกและลดระดับได้ง่าย\n",
        "\n",
        "มิติ\n",
        "- ความกว้าง 53 ซม. | 20.87 นิ้ว\n",
        "- ความลึก 51 ซม. | 20.08 นิ้ว\n",
        "- ความสูง 80 ซม. | 31.50 นิ้ว\n",
        "- ความสูงของที่นั่ง 44 ซม. | 17.32 นิ้ว\n",
        "- ความลึกของที่นั่ง 41 ซม. | 16.14 นิ้ว\n",
        "\n",
        "ตัวเลือก\n",
        "- ล้อเลื่อนแบบแข็งหรือแบบอ่อน\n",
        "- ความหนาแน่นโฟมที่นั่งมีสองตัวเลือก:\n",
        "  แบบความหนาแน่นกลาง (1.8 ปอนด์ต่อลูกบาศก์ฟุต) หรือ แบบความหนาแน่นสูง (2.8 ปอนด์ต่อลูกบาศก์ฟุต)\n",
        "- เก้าอี้แบบไม่มีที่พักแขน หรือ เก้าอี้แบบมีที่พักแขน\n",
        "\n",
        "วัสดุ\n",
        "  โครงขึ้นรูป\n",
        "  - อลูมิเนียมหล่อที่เคลือบด้วยไนลอนชนิด PA6/PA66\n",
        "  - ความหนาของโครงวัสดุ: 10 มม.\n",
        "  ที่นั่ง\n",
        "  - โฟมชนิด HD36\n",
        "\n",
        "ประเทศผู้ผลิต\n",
        "- อิตาลี\n",
        "\"\"\""
      ],
      "metadata": {
        "id": "T-VYxsNSadkz"
      },
      "execution_count": null,
      "outputs": []
    },
    {
      "cell_type": "code",
      "execution_count": null,
      "metadata": {
        "id": "LZ4-TTtOeh2X",
        "colab": {
          "base_uri": "https://localhost:8080/"
        },
        "outputId": "992da2c0-038c-4aff-feee-5061cff91356"
      },
      "outputs": [
        {
          "output_type": "stream",
          "name": "stdout",
          "text": [
            "Here is a product description based on the technical specifications:\n",
            "\n",
            "**Introducing the SWC Office Chair: Comfort and Style for Your Home or Office**\n",
            "\n",
            "Inspired by the grandeur of medieval times, our SWC Office Chair is a masterpiece of modern design. This elegant chair is part of a comprehensive office furniture collection that includes document cabinets, workstations, bookshelves, conference tables, and more.\n",
            "\n",
            "**Customization Options**\n",
            "\n",
            "Choose from a variety of colors for the seat and base to match your unique style. The SWC-100 model features a plastic back and seat, while the SWC-110 model boasts a fully upholstered design in 10 fabric and 6 leather options. The base is available in stainless steel, matte black, glossy white, or chrome.\n",
            "\n",
            "**Ergonomic Design**\n",
            "\n",
            "Our chair is designed for comfort and support, with a sturdy aluminum 5-star base and a pneumatic system for easy height adjustment. The seat and backrest are crafted from high-density foam, available in two density options, to provide optimal support and comfort.\n",
            "\n",
            "**Dimensions**\n",
            "\n",
            "The SWC Office Chair measures 53 cm (20.87 inches) in width, 51 cm (20.08 inches) in depth, and 80 cm (31.50 inches) in height, with a seat height of 44 cm (17.32 inches) and a seat depth of 41 cm (16.14 inches).\n",
            "\n",
            "**Additional Features**\n",
            "\n",
            "* Choose from hard or soft casters for smooth movement\n",
            "* Select from two foam density options for the seat\n",
            "* Opt for a chair with or without armrests\n",
            "\n",
            "**Quality and Durability**\n",
            "\n",
            "Our chair is built to last, with a durable aluminum frame and high-quality materials. It's also certified for heavy-duty use, ensuring years of reliable service.\n",
            "\n",
            "**Made in Italy**\n",
            "\n",
            "The SWC Office Chair is crafted in Italy, a country renowned for its rich design heritage and exceptional craftsmanship.\n",
            "\n",
            "Whether you're furnishing your home office or a corporate workspace, the SWC Office Chair is the perfect choice for anyone seeking comfort, style, and durability.\n"
          ]
        }
      ],
      "source": [
        "# For english, run this script\n",
        "#\n",
        "prompt = f\"\"\"\n",
        "Your task is to help a marketing team create a\n",
        "description for a retail website of a product based\n",
        "on a technical fact sheet.\n",
        "\n",
        "Write a product description  based on the information\n",
        "provided in the technical specifications delimited by\n",
        "triple backticks.\n",
        "\n",
        "Technical specifications: ```{fact_sheet_chair}```\n",
        "\"\"\"\n",
        "\n",
        "response = get_completion(prompt)\n",
        "print(response)"
      ]
    },
    {
      "cell_type": "markdown",
      "metadata": {
        "id": "hf6o_rPxfRGz"
      },
      "source": [
        "### Issue 1: The text is too long"
      ]
    },
    {
      "cell_type": "code",
      "execution_count": null,
      "metadata": {
        "id": "Oo-m8h4QTJWc",
        "colab": {
          "base_uri": "https://localhost:8080/"
        },
        "outputId": "160b2cd2-4dfe-45da-82fe-1d6a43970707"
      },
      "outputs": [
        {
          "output_type": "stream",
          "name": "stdout",
          "text": [
            "Here is a product description based on the technical specifications:\n",
            "\n",
            "\"Elevate your workspace with our stylish and functional office chair, inspired by medieval design. With a sturdy aluminum frame, adjustable height, and comfortable foam cushioning, this chair is perfect for home or office use. Choose from various color options and upholstery materials to fit your style.\"\n"
          ]
        }
      ],
      "source": [
        "prompt = f\"\"\"\n",
        "Your task is to help a marketing team create a\n",
        "description for a retail website of a product based\n",
        "on a technical fact sheet.\n",
        "\n",
        "Write a product description based on the information\n",
        "provided in the technical specifications delimited by\n",
        "triple backticks.\n",
        "\n",
        "Use at most 50 words.\n",
        "\n",
        "Technical specifications: ```{fact_sheet_chair}```\n",
        "\"\"\"\n",
        "\n",
        "response = get_completion(prompt)\n",
        "print(response)"
      ]
    },
    {
      "cell_type": "markdown",
      "source": [
        "**Check The Word Length**"
      ],
      "metadata": {
        "id": "eJA1ECWSYOaV"
      }
    },
    {
      "cell_type": "code",
      "execution_count": null,
      "metadata": {
        "colab": {
          "base_uri": "https://localhost:8080/"
        },
        "outputId": "087812dd-ee0b-4ba7-a006-74c1c0ea21d5",
        "id": "yG21IMDMYLv_"
      },
      "outputs": [
        {
          "output_type": "execute_result",
          "data": {
            "text/plain": [
              "56"
            ]
          },
          "metadata": {},
          "execution_count": 24
        }
      ],
      "source": [
        "len(response.split())"
      ]
    },
    {
      "cell_type": "markdown",
      "metadata": {
        "id": "YcYubDSHe_Ao"
      },
      "source": [
        "### Issue 2. Text focuses on the wrong details"
      ]
    },
    {
      "cell_type": "code",
      "execution_count": null,
      "metadata": {
        "colab": {
          "base_uri": "https://localhost:8080/"
        },
        "outputId": "58e384d3-e06d-4e78-de24-a19a0e819863",
        "id": "MGv8M5XRaSQ-"
      },
      "outputs": [
        {
          "output_type": "stream",
          "name": "stdout",
          "text": [
            "Here is a product description based on the technical specifications:\n",
            "\n",
            "\"Constructed with a durable aluminum frame, featuring a 10mm thick nylon-coated PA6/PA66 alloy, and a high-density HD36 foam seat, this office chair is built to last. Available with a range of base color options, including stainless steel, black, white, and chrome, and a choice of 10 fabric and 6 leather upholstery options.\"\n"
          ]
        }
      ],
      "source": [
        "prompt = f\"\"\"\n",
        "Your task is to help a marketing team create a\n",
        "description for a retail website of a product based\n",
        "on a technical fact sheet.\n",
        "\n",
        "Write a product description based on the information\n",
        "provided in the technical specifications delimited by\n",
        "triple backticks.\n",
        "\n",
        "The description is intended for furniture retailers,\n",
        "so should be technical in nature and focus on the\n",
        "materials the product is constructed from.\n",
        "\n",
        "Use at most 50 words.\n",
        "\n",
        "Technical specifications: ```{fact_sheet_chair}```\n",
        "\"\"\"\n",
        "\n",
        "response = get_completion(prompt)\n",
        "print(response)"
      ]
    },
    {
      "cell_type": "markdown",
      "metadata": {
        "id": "KP4_rgA5fY7n"
      },
      "source": [
        "### Issue 3. Description needs a table of dimensions"
      ]
    },
    {
      "cell_type": "code",
      "execution_count": null,
      "metadata": {
        "colab": {
          "base_uri": "https://localhost:8080/"
        },
        "outputId": "498205ec-9488-4cf6-e706-df3eb1d5b2ba",
        "id": "V6p3dRcahM4M"
      },
      "outputs": [
        {
          "output_type": "stream",
          "name": "stdout",
          "text": [
            "Here is the product description:\n",
            "\n",
            "This office chair is part of a comprehensive furniture collection inspired by medieval times, featuring a range of styles and configurations to suit any office or home setting. The chair's frame is constructed from high-quality aluminum alloy, with a durable nylon PA6/PA66 coating, ensuring a sturdy and long-lasting structure. The seat and backrest are made from high-density HD36 foam, providing optimal comfort and support. The base of the chair features a 5-star aluminum frame with a plastic coating, complete with a smooth and quiet gas lift system for easy height adjustment. The chair is available in a range of colors and upholstery options, including fabric and leather, to suit any décor.\n",
            "\n",
            "Product IDs: SWC-100, SWC-110\n",
            "\n",
            "**Product Dimensions**\n",
            "\n",
            "| Dimension | Measurement (inches) |\n",
            "| --- | --- |\n",
            "| Width | 20.87 |\n",
            "| Depth | 20.08 |\n",
            "| Height | 31.50 |\n",
            "| Seat Height | 17.32 |\n",
            "| Seat Depth | 16.14 |\n",
            "\n",
            "Let me know if this meets your requirements!\n"
          ]
        }
      ],
      "source": [
        "prompt = f\"\"\"\n",
        "Your task is to help a marketing team create a\n",
        "description for a retail website of a product based\n",
        "on a technical fact sheet.\n",
        "\n",
        "Write a product description based on the information\n",
        "provided in the technical specifications delimited by\n",
        "triple backticks.\n",
        "\n",
        "The description is intended for furniture retailers,\n",
        "so should be technical in nature and focus on the\n",
        "materials the product is constructed from.\n",
        "\n",
        "At the end of the description, include every 7-character\n",
        "Product ID in the technical specification.\n",
        "\n",
        "After the description, include a table that gives the\n",
        "product's dimensions. The table should have two columns.\n",
        "In the first column include the name of the dimension.\n",
        "In the second column include the measurements in inches only.\n",
        "\n",
        "Give the table the title 'Product Dimensions'.\n",
        "\n",
        "Technical specifications: ```{fact_sheet_chair}```\n",
        "\"\"\"\n",
        "\n",
        "response = get_completion(prompt)\n",
        "print(response)"
      ]
    },
    {
      "cell_type": "markdown",
      "metadata": {
        "id": "isnUjtl5Mm8D"
      },
      "source": [
        "### Finally format as HTML for website display"
      ]
    },
    {
      "cell_type": "code",
      "execution_count": null,
      "metadata": {
        "colab": {
          "base_uri": "https://localhost:8080/"
        },
        "outputId": "631eb8ea-c08a-470d-91db-79b29e0fadd7",
        "id": "msunwL3mmoGw"
      },
      "outputs": [
        {
          "output_type": "stream",
          "name": "stdout",
          "text": [
            "Here is the product description and dimensions table in HTML format:\n",
            "\n",
            "<div>\n",
            "This office chair is part of a furniture collection inspired by the Middle Ages, offering a range of styles and configurations to suit any office or home setting. The chair features a sturdy aluminum frame with a 5-star base, coated with plastic for durability. The seat and backrest are available in a variety of materials, including 10 fabric options and 6 leather options, with a choice of plastic or fully upholstered designs. The base is available in stainless steel, black, white, or chrome finishes. The chair also features a pneumatic height adjustment system for easy customization.\n",
            "\n",
            "Product IDs: SWC-100, SWC-110\n",
            "\n",
            "</div>\n",
            "\n",
            "<table>\n",
            "  <caption>Product Dimensions</caption>\n",
            "  <tr>\n",
            "    <th>Dimension</th>\n",
            "    <th>Measurement (in)</th>\n",
            "  </tr>\n",
            "  <tr>\n",
            "    <td>Width</td>\n",
            "    <td>20.87</td>\n",
            "  </tr>\n",
            "  <tr>\n",
            "    <td>Depth</td>\n",
            "    <td>20.08</td>\n",
            "  </tr>\n",
            "  <tr>\n",
            "    <td>Height</td>\n",
            "    <td>31.50</td>\n",
            "  </tr>\n",
            "  <tr>\n",
            "    <td>Seat Height</td>\n",
            "    <td>17.32</td>\n",
            "  </tr>\n",
            "  <tr>\n",
            "    <td>Seat Depth</td>\n",
            "    <td>16.14</td>\n",
            "  </tr>\n",
            "</table>\n"
          ]
        }
      ],
      "source": [
        "prompt = f\"\"\"\n",
        "Your task is to help a marketing team create a\n",
        "description for a retail website of a product based\n",
        "on a technical fact sheet.\n",
        "\n",
        "Write a product description based on the information\n",
        "provided in the technical specifications delimited by\n",
        "triple backticks.\n",
        "\n",
        "The description is intended for furniture retailers,\n",
        "so should be technical in nature and focus on the\n",
        "materials the product is constructed from.\n",
        "\n",
        "At the end of the description, include every 7-character\n",
        "Product ID in the technical specification.\n",
        "\n",
        "After the description, include a table that gives the\n",
        "product's dimensions. The table should have two columns.\n",
        "In the first column include the name of the dimension.\n",
        "In the second column include the measurements in inches only.\n",
        "\n",
        "Give the table the title 'Product Dimensions'.\n",
        "\n",
        "Format everything as HTML that can be used in a website.\n",
        "Place the description in a <div> element.\n",
        "\n",
        "Technical specifications: ```{fact_sheet_chair}```\n",
        "\"\"\"\n",
        "\n",
        "response = get_completion(prompt_E)\n",
        "print(response)"
      ]
    },
    {
      "cell_type": "code",
      "execution_count": null,
      "metadata": {
        "id": "jKCHgG_Ym_UZ"
      },
      "outputs": [],
      "source": [
        "from IPython.display import display, HTML"
      ]
    },
    {
      "cell_type": "code",
      "execution_count": null,
      "metadata": {
        "colab": {
          "base_uri": "https://localhost:8080/",
          "height": 269
        },
        "outputId": "adb4b6de-bf35-461d-f831-96f0589f5781",
        "id": "kXHqZn7unIHd"
      },
      "outputs": [
        {
          "output_type": "display_data",
          "data": {
            "text/plain": [
              "<IPython.core.display.HTML object>"
            ],
            "text/html": [
              "Here is the product description and dimensions table in HTML format:\n",
              "\n",
              "<div>\n",
              "This office chair is part of a furniture collection inspired by the Middle Ages, offering a range of styles and configurations to suit any office or home setting. The chair features a sturdy aluminum frame with a 5-star base, coated with plastic for durability. The seat and backrest are available in a variety of materials, including 10 fabric options and 6 leather options, with a choice of plastic or fully upholstered designs. The base is available in stainless steel, black, white, or chrome finishes. The chair also features a pneumatic height adjustment system for easy customization.\n",
              "\n",
              "Product IDs: SWC-100, SWC-110\n",
              "\n",
              "</div>\n",
              "\n",
              "<table>\n",
              "  <caption>Product Dimensions</caption>\n",
              "  <tr>\n",
              "    <th>Dimension</th>\n",
              "    <th>Measurement (in)</th>\n",
              "  </tr>\n",
              "  <tr>\n",
              "    <td>Width</td>\n",
              "    <td>20.87</td>\n",
              "  </tr>\n",
              "  <tr>\n",
              "    <td>Depth</td>\n",
              "    <td>20.08</td>\n",
              "  </tr>\n",
              "  <tr>\n",
              "    <td>Height</td>\n",
              "    <td>31.50</td>\n",
              "  </tr>\n",
              "  <tr>\n",
              "    <td>Seat Height</td>\n",
              "    <td>17.32</td>\n",
              "  </tr>\n",
              "  <tr>\n",
              "    <td>Seat Depth</td>\n",
              "    <td>16.14</td>\n",
              "  </tr>\n",
              "</table>"
            ]
          },
          "metadata": {}
        }
      ],
      "source": [
        "display(HTML(response))"
      ]
    },
    {
      "cell_type": "markdown",
      "metadata": {
        "id": "Qx1LvgHFAdlS"
      },
      "source": [
        "## Ex 1.\n"
      ]
    },
    {
      "cell_type": "code",
      "execution_count": null,
      "metadata": {
        "id": "19FpNmEgAjVu"
      },
      "outputs": [],
      "source": []
    }
  ],
  "metadata": {
    "colab": {
      "provenance": [],
      "include_colab_link": true
    },
    "kernelspec": {
      "display_name": "Python 3",
      "name": "python3"
    },
    "language_info": {
      "codemirror_mode": {
        "name": "ipython",
        "version": 3
      },
      "file_extension": ".py",
      "mimetype": "text/x-python",
      "name": "python",
      "nbconvert_exporter": "python",
      "pygments_lexer": "ipython3",
      "version": "3.10.13"
    }
  },
  "nbformat": 4,
  "nbformat_minor": 0
}