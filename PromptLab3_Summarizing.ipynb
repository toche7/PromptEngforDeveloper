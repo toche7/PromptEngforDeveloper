{
  "cells": [
    {
      "cell_type": "markdown",
      "metadata": {
        "id": "view-in-github",
        "colab_type": "text"
      },
      "source": [
        "<a href=\"https://colab.research.google.com/github/toche7/PromptEngforDeveloper/blob/main/PromptLab3_Summarizing.ipynb\" target=\"_parent\"><img src=\"https://colab.research.google.com/assets/colab-badge.svg\" alt=\"Open In Colab\"/></a>"
      ]
    },
    {
      "cell_type": "markdown",
      "id": "87857393-6369-4b66-87c9-5f3253edf28e",
      "metadata": {
        "id": "87857393-6369-4b66-87c9-5f3253edf28e"
      },
      "source": [
        "# Summarizing\n",
        "ใน notebook นี้ เราจะได้เรียนการสรุปข้อความในหัวข้อที่กำหนด"
      ]
    },
    {
      "cell_type": "markdown",
      "source": [
        "## Setup"
      ],
      "metadata": {
        "id": "dqZp7qeTXbig"
      },
      "id": "dqZp7qeTXbig"
    },
    {
      "cell_type": "code",
      "execution_count": null,
      "id": "o5yh5djUh6dR",
      "metadata": {
        "id": "o5yh5djUh6dR"
      },
      "outputs": [],
      "source": [
        "# !pip -q install python-dotenv\n",
        "!pip -q install groq"
      ]
    },
    {
      "cell_type": "code",
      "execution_count": null,
      "id": "23H9hyvTh95L",
      "metadata": {
        "id": "23H9hyvTh95L"
      },
      "outputs": [],
      "source": [
        "#========= VSCode for Groq =====================================================================\n",
        "# import os\n",
        "# from dotenv import load_dotenv\n",
        "# load_dotenv()\n",
        "# secret_key = os.environ.get(\"GROQ_API_KEY\")\n",
        "#======== google.colab for Groq ================================================================\n",
        "from google.colab import userdata\n",
        "secret_key = userdata.get('GROQ_API_KEY')\n",
        "\n",
        "#===== create Groq object=================\n",
        "from groq import Groq\n",
        "clientGroq = Groq(\n",
        "    api_key= secret_key,\n",
        ")"
      ]
    },
    {
      "cell_type": "code",
      "execution_count": null,
      "id": "1-waE3BXh_9W",
      "metadata": {
        "id": "1-waE3BXh_9W"
      },
      "outputs": [],
      "source": [
        "def get_completion(prompt, model= \"llama3-70b-8192\", clientGroq = clientGroq):\n",
        "    messages = [{\"role\": \"user\", \"content\": prompt}]\n",
        "    response = clientGroq.chat.completions.create(\n",
        "        model=model,\n",
        "        messages=messages,\n",
        "        temperature=0,\n",
        "        max_tokens= 4000,\n",
        "        top_p = 0.5\n",
        "    )\n",
        "    return response.choices[0].message.content"
      ]
    },
    {
      "cell_type": "markdown",
      "id": "387b0686-bea6-41a2-b879-88721dc0ec10",
      "metadata": {
        "id": "387b0686-bea6-41a2-b879-88721dc0ec10"
      },
      "source": [
        "## Text to summarize"
      ]
    },
    {
      "cell_type": "code",
      "execution_count": null,
      "metadata": {
        "height": 183,
        "id": "_4x77LNQ3nVs"
      },
      "outputs": [],
      "source": [
        "prod_review = \"\"\"\n",
        "ดิฉันพึ่งได้รับของเล่น เป็นตัวแพนด้าสำหรับวันเกิดลูกสาวของฉัน ซึ่งเธอรักมันและพามันไปทุกที่ มันนุ่มนิ่มและน่ารักมาก\n",
        "หน้าตาดูเป็นมิตร แต่สำหรับราคาที่จ่ายไป มันอาจจะเล็กไปหน่อย ดิฉันคิดว่าอาจจะมีตัวเลือกอื่นที่ใหญ่กว่าในราคาเดียวกัน\n",
        "มันถูกส่งมาถึงบ้านหนึ่งวันก่อนกำหนด ดิฉันเลยได้เล่นมันเองก่อนจะให้ลูกสาวของฉัน\n",
        "\"\"\""
      ],
      "id": "_4x77LNQ3nVs"
    },
    {
      "cell_type": "markdown",
      "id": "5d95eba0-7744-491a-a30a-8ee687303b7a",
      "metadata": {
        "id": "5d95eba0-7744-491a-a30a-8ee687303b7a"
      },
      "source": [
        "## Summarize with a word/sentence/character limit"
      ]
    },
    {
      "cell_type": "code",
      "execution_count": null,
      "id": "0c3023c6",
      "metadata": {
        "height": 234,
        "id": "0c3023c6",
        "colab": {
          "base_uri": "https://localhost:8080/"
        },
        "outputId": "f7a3dfe0-18ab-4311-f8d5-2d23c7017a2e"
      },
      "outputs": [
        {
          "output_type": "stream",
          "name": "stdout",
          "text": [
            "Here is a summary of the review in 30 words or less, delimited by triple backticks:\n",
            "\n",
            "```\n",
            "Cute panda toy, soft and cuddly, daughter loves it. Worth the price, but may be smaller than expected. Fast shipping, arrived a day early.\n"
          ]
        }
      ],
      "source": [
        "prompt_EN = f\"\"\"\n",
        "Your task is to generate a short summary of a product \\\n",
        "review from an ecommerce site.\n",
        "\n",
        "Summarize the review below, delimited by triple\n",
        "backticks, in at most 30 words.\n",
        "\n",
        "Review: ```{prod_review}```\n",
        "\"\"\"\n",
        "\n",
        "response = get_completion(prompt_EN)\n",
        "print(response)\n"
      ]
    },
    {
      "cell_type": "markdown",
      "id": "90832908-3b3a-459b-b595-bbe15c2a72fa",
      "metadata": {
        "id": "90832908-3b3a-459b-b595-bbe15c2a72fa"
      },
      "source": [
        "## Summarize with a focus on shipping and delivery"
      ]
    },
    {
      "cell_type": "code",
      "execution_count": null,
      "id": "d850bdd2",
      "metadata": {
        "height": 268,
        "id": "d850bdd2",
        "colab": {
          "base_uri": "https://localhost:8080/"
        },
        "outputId": "6efce089-8238-4e28-fdb9-29b5b7f0a9cf"
      },
      "outputs": [
        {
          "output_type": "stream",
          "name": "stdout",
          "text": [
            "Here is a summary of the review in 30 words or less, focusing on shipping and delivery:\n",
            "\n",
            "```\n",
            "Product arrived one day earlier than expected, customer received it before giving it to their daughter as a gift.\n",
            "```\n"
          ]
        }
      ],
      "source": [
        "prompt_EN = f\"\"\"\n",
        "Your task is to generate a short summary of a product \\\n",
        "review from an ecommerce site to give feedback to the \\\n",
        "Shipping deparmtment.\n",
        "\n",
        "Summarize the review below, delimited by triple\n",
        "backticks, in at most 30 words, and focusing on any aspects \\\n",
        "that mention shipping and delivery of the product.\n",
        "\n",
        "Review: ```{prod_review}```\n",
        "\"\"\"\n",
        "\n",
        "response = get_completion(prompt_EN)\n",
        "print(response)\n"
      ]
    },
    {
      "cell_type": "markdown",
      "id": "01204385-1d27-420c-80ee-bd4b524550f6",
      "metadata": {
        "id": "01204385-1d27-420c-80ee-bd4b524550f6"
      },
      "source": [
        "## Summarize with a focus on price and value"
      ]
    },
    {
      "cell_type": "code",
      "execution_count": null,
      "id": "6d865432",
      "metadata": {
        "height": 285,
        "id": "6d865432",
        "outputId": "1eabf970-e09d-4883-a89a-7e4f5fb12d4e",
        "colab": {
          "base_uri": "https://localhost:8080/"
        }
      },
      "outputs": [
        {
          "output_type": "stream",
          "name": "stdout",
          "text": [
            "Here is a summary of the review in 30 words or less, focusing on aspects relevant to price and perceived value:\n",
            "\n",
            "```\n",
            "Customer loves the soft and cute panda toy, but feels it's a bit small for the price, considering similar larger options may be available at the same cost.\n"
          ]
        }
      ],
      "source": [
        "prompt = f\"\"\"\n",
        "Your task is to generate a short summary of a product \\\n",
        "review from an ecommerce site to give feedback to the \\\n",
        "pricing deparmtment, responsible for determining the \\\n",
        "price of the product.\n",
        "\n",
        "Summarize the review below, delimited by triple\n",
        "backticks, in at most 30 words, and focusing on any aspects \\\n",
        "that are relevant to the price and perceived value.\n",
        "\n",
        "Review: ```{prod_review}```\n",
        "\"\"\"\n",
        "\n",
        "response = get_completion(prompt)\n",
        "print(response)\n"
      ]
    },
    {
      "cell_type": "markdown",
      "id": "21a561c4-d9a0-48a8-86c4-725746fb08df",
      "metadata": {
        "id": "21a561c4-d9a0-48a8-86c4-725746fb08df"
      },
      "source": [
        "#### Comment\n",
        "- Summaries include topics that are not related to the topic of focus."
      ]
    },
    {
      "cell_type": "markdown",
      "id": "9aff99cd-dc09-467c-bd09-897ffe06a232",
      "metadata": {
        "id": "9aff99cd-dc09-467c-bd09-897ffe06a232"
      },
      "source": [
        "## Try \"extract\" instead of \"summarize\""
      ]
    },
    {
      "cell_type": "code",
      "execution_count": null,
      "id": "190943b0",
      "metadata": {
        "height": 251,
        "id": "190943b0",
        "outputId": "4a092a7e-438a-46de-f0a9-c0adbe1962fb",
        "colab": {
          "base_uri": "https://localhost:8080/"
        }
      },
      "outputs": [
        {
          "output_type": "stream",
          "name": "stdout",
          "text": [
            "Here is the relevant information related to shipping and delivery:\n",
            "\n",
            "\"มันถูกส่งมาถึงบ้านหนึ่งวันก่อนกำหนด\"\n",
            "\n",
            "Translated to English, it means:\n",
            "\n",
            "\"It was delivered to my home one day before the scheduled date.\"\n",
            "\n",
            "This indicates that the shipping and delivery process was faster than expected, with the product arriving a day earlier than promised.\n"
          ]
        }
      ],
      "source": [
        "prompt = f\"\"\"\n",
        "Your task is to extract relevant information from \\\n",
        "a product review from an ecommerce site to give \\\n",
        "feedback to the Shipping department.\n",
        "\n",
        "From the review below, delimited by triple quotes \\\n",
        "extract the information relevant to shipping and \\\n",
        "delivery. Limit to 30 words.\n",
        "\n",
        "Review: ```{prod_review}```\n",
        "\"\"\"\n",
        "\n",
        "response = get_completion(prompt)\n",
        "print(response)"
      ]
    },
    {
      "cell_type": "markdown",
      "id": "f513da2e-f89c-4c91-8456-b79c630e70c9",
      "metadata": {
        "id": "f513da2e-f89c-4c91-8456-b79c630e70c9"
      },
      "source": [
        "## Summarize multiple product reviews"
      ]
    },
    {
      "cell_type": "code",
      "execution_count": null,
      "metadata": {
        "height": 1271,
        "id": "fss8DoTRJCnO"
      },
      "outputs": [],
      "source": [
        "\n",
        "review_1 = prod_review\n",
        "\n",
        "# review for a standing lamp\n",
        "review_2 = \"\"\"\n",
        "โคมไฟสวยนี้เป็นที่ต้องการสำหรับห้องนอนของหนู\n",
        "โคมไฟนี้มีที่เก็บของเพิ่มเติมและราคาก็ไม่สูงเกินไป\n",
        "ได้รับมาเร็วมาก ถึงภายใน 2 วัน\n",
        "สายไฟของโคมไฟมีขาดชำรุดในระหว่างการขนส่ง\n",
        "และบริษัทได้ส่งโคมไฟใหม่มาให้ถึงภายในไม่กี่วันเช่นกัน\n",
        "การประกอบโคมไฟก็ทำได้ง่าย เมื่อพบว่าชิ้นส่วนบางอย่างได้ขาดหายไป\n",
        "หนูจึงติดต่อทีมสนับสนุน และพวกเขาก็ส่งชิ้นส่วนนั้นมาให้ภายในไม่กี่วัน\n",
        "ดูเหมือนว่าบริษัทนี้จะดูแลลูกค้าและผลิตภัณฑ์ของตนอย่างดี\n",
        "\"\"\"\n",
        "\n",
        "# review for an electric toothbrush\n",
        "review_3 = \"\"\"\n",
        "ทันตแพทย์ของผมแนะนำแปรงสีฟันไฟฟ้า จึงเป็นเหตุผลที่ผมซื้อสิ่งนี้มา\n",
        "อายุการใช้งานแบตเตอรี่ดูเป็นน่าประทับใจอย่างมาก\n",
        "หลังจากชาร์จครั้งแรกแล้วปล่อยชาร์จทิ้งไว้เป็นสัปดาห์แรกเพื่อคงสภาพแบตเตอรี่\n",
        "ผมได้ถอดชาร์จและใช้มันในการแปรงฟันสองครั้งต่อวันตลอดสามสัปดาห์ที่ผ่านมาโดยใช้แบตเตอรี่ชาร์จครั้งเดียวกัน\n",
        "แต่หัวแปรงสีฟันเล็กเกินไป ผมเคยเห็นแปรงสีฟันสำหรับเด็กที่ใหญ่กว่านี้\n",
        "ผมหวังว่าหัวแปรงสีฟันจะใหญ่ขึ้นและมีขนแปรงที่ยาวต่างกันเพื่อเข้าถึงซอกระหว่างฟันได้ดีกว่า\n",
        "เพราะหัวแปรงสีฟันนี้ไม่สามารถเข้าถึงซอกฟันได้ดีนัก\n",
        "โดยรวมถ้าคุณสามารถซื้อสิ่งนี้ในราคาประมาณ 50 ดอลลาร์ มันคือข้อเสนอที่ดี\n",
        "หัวแปรงสีฟันของบริษัทผู้ผลิตมีราคาแพง แต่คุณสามารถซื้อหัวแปรงสีฟันแบบธรรมดาที่ราคาถูกกว่า\n",
        "แปรงสีฟันนี้ทำให้ผมรู้สึกเหมือนได้ไปทำฟันทุกวัน ฟันของผมรู้สึกสะอาดและเงางาม!\n",
        "\"\"\"\n",
        "\n",
        "# review for a VIVO smartphone from Pantip https://pantip.com/topic/33261003\n",
        "review_4 = \"\"\"\n",
        "เมื่อ 3 ปีที่แล้วก้อลังเลแบบนี้แหละค่ะ พอดีช่วงนั้นต้องเดินทางไปต่างประเทศและอยากเก็บรูปสวยๆให้มากที่สุด\n",
        "แต่ไม่อยากซื้อกล้องถ่ายรูป เลยมอง smartphoneแทนเพราะส่วนใหญ่เน้นถ่ายรูปกับ social media\n",
        "ตอนไปที่ร้านตั้งใจไปซื้อซัมซุง แต่ พนง ขายแนะนำ X-shot หลังจากเทียบสเปค เทียบราคาจึงเลือก X-shot ใช้ 3 ปี\n",
        "ไม่เคยซ่อม มีรวนครั้งนึงเพราะรูปเยอะมาก แบตก้อถือได้ว่า 70% สำหรับเครื่อง 3 ปีก้อถือว่าเยี่ยม\n",
        "ตอนเดือน พ.ค. ปีนี้เพิ่งถอย V5Plus มา Xshot ก้อยังใช้อยู่เพราะไม่อยากขาย ยังใช้งานได้ดีค่ะ\n",
        "บอกได้เลยว่า Vivo ตอบโจทย์ lifestyle ที่สุด ตอนนี้เวลาใครมาถามเรื่อง smartphone\n",
        "แนะนำ Vivo แน่นอนค่ะ ตอนนี้ขายของออนไลน์ ใช้แค่ smartphone ก้อได้รูปสวยๆ ก้อลงสินค้าได้แล้วค่ะ\n",
        "(ปล.ที่ซื้อ v5plus เพราะต้องไปต่างประเทศอีกครั้ง แล้วกลัวว่า xshot\n",
        "จะมีปัญหาเพราะตกจากที่สูงบ่อยมาก เล่นเกมหนักมาก สรุปคือคิดมากไปเอง ตอนนี้เลยใช้คู่กันทั้งสองเครื่องเลยค่ะ)\n",
        "\n",
        "ถ้า lifestyle เน้นถ่ายรูปกับ social บอกได้เลยว่า vivo ตอบโจทย์ที่สุดค่ะ\n",
        "\"\"\"\n",
        "\n",
        "reviews = [review_1, review_2, review_3, review_4]\n",
        "\n"
      ],
      "id": "fss8DoTRJCnO"
    },
    {
      "cell_type": "code",
      "execution_count": null,
      "id": "b7c39cc8",
      "metadata": {
        "height": 251,
        "id": "b7c39cc8",
        "outputId": "3ce47b96-7ffa-44ae-c6af-6fa3cc6ea127",
        "colab": {
          "base_uri": "https://localhost:8080/"
        }
      },
      "outputs": [
        {
          "output_type": "stream",
          "name": "stdout",
          "text": [
            "0 ```\n",
            "Cute panda toy, soft and lovable, but a bit small for the price. Fast shipping. \n",
            "\n",
            "1 ```\n",
            "Positive review: Stylish lamp with extra storage, fast delivery, and excellent customer service. \n",
            "\n",
            "2 ```\n",
            "Electric toothbrush with impressive battery life, but small brush head and limited accessibility. \n",
            "\n",
            "3 ```\n",
            "Vivo X-shot meets lifestyle needs, excellent camera and battery life, recommended for social media use. \n",
            "\n"
          ]
        }
      ],
      "source": [
        "for i in range(len(reviews)):\n",
        "    prompt = f\"\"\"\n",
        "    Your task is to generate a short summary of a product \\\n",
        "    review from an ecommerce site.\n",
        "\n",
        "    Summarize the review below, delimited by triple \\\n",
        "    backticks in at most 20 words.\n",
        "\n",
        "    Review: ```{reviews[i]}```\n",
        "    \"\"\"\n",
        "\n",
        "    response = get_completion(prompt)\n",
        "    print(i, response, \"\\n\")\n"
      ]
    },
    {
      "cell_type": "markdown",
      "id": "e0c9f921-8672-4124-bad6-8bee65078ccb",
      "metadata": {
        "id": "e0c9f921-8672-4124-bad6-8bee65078ccb"
      },
      "source": [
        "## Try experimenting on your own!"
      ]
    },
    {
      "cell_type": "code",
      "execution_count": null,
      "id": "d05d8a20-86f2-4613-835e-41c49a504b5b",
      "metadata": {
        "height": 30,
        "id": "d05d8a20-86f2-4613-835e-41c49a504b5b"
      },
      "outputs": [],
      "source": []
    }
  ],
  "metadata": {
    "colab": {
      "provenance": [],
      "include_colab_link": true
    },
    "kernelspec": {
      "display_name": "Python 3 (ipykernel)",
      "language": "python",
      "name": "python3"
    },
    "language_info": {
      "codemirror_mode": {
        "name": "ipython",
        "version": 3
      },
      "file_extension": ".py",
      "mimetype": "text/x-python",
      "name": "python",
      "nbconvert_exporter": "python",
      "pygments_lexer": "ipython3",
      "version": "3.10.13"
    }
  },
  "nbformat": 4,
  "nbformat_minor": 5
}